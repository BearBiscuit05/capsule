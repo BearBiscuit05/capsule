{
 "cells": [
  {
   "cell_type": "code",
   "execution_count": 1,
   "metadata": {},
   "outputs": [],
   "source": [
    "import numpy as np"
   ]
  },
  {
   "cell_type": "code",
   "execution_count": 3,
   "metadata": {},
   "outputs": [
    {
     "ename": "",
     "evalue": "",
     "output_type": "error",
     "traceback": [
      "\u001b[1;31m无法执行代码，已释放会话。请尝试重新启动内核。"
     ]
    },
    {
     "ename": "",
     "evalue": "",
     "output_type": "error",
     "traceback": [
      "\u001b[1;31m在当前单元格或上一个单元格中执行代码时 Kernel 崩溃。请查看单元格中的代码，以确定故障的可能原因。有关详细信息，请单击 <a href='https://aka.ms/vscodeJupyterKernelCrash'>此处</a>。有关更多详细信息，请查看 Jupyter <a href='command:jupyter.viewOutput'>log</a>。"
     ]
    }
   ],
   "source": [
    "twpath=\"/raid/bear/dataset/twitter/\"\n",
    "\n",
    "NUM_NODE=41652230\n",
    "FEAT_DIM=768\n",
    "NUM_CLASS=150\n",
    "NUM_TRAIN_SET=416500\n",
    "NUM_VALID_SET=100000\n",
    "NUM_TEST_SET=200000\n",
    "shape = (NUM_NODE, FEAT_DIM)\n",
    "random_array = np.random.rand(*shape).astype(np.float32)\n",
    "# 打印结果\n",
    "\n"
   ]
  },
  {
   "cell_type": "code",
   "execution_count": null,
   "metadata": {},
   "outputs": [],
   "source": [
    "random_array.tofile(twpath+\"feats.bin\")"
   ]
  },
  {
   "cell_type": "code",
   "execution_count": null,
   "metadata": {},
   "outputs": [],
   "source": [
    "uk2006=\"/raid/bear/dataset/uk-2006-05/\"\n",
    "NUM_NODE=77741046\n",
    "NUM_EDGE=2965197340\n",
    "FEAT_DIM=500\n",
    "NUM_CLASS=150\n",
    "NUM_TRAIN_SET=1000000\n",
    "NUM_VALID_SET=200000\n",
    "NUM_TEST_SET=100000\n",
    "shape = (NUM_NODE, FEAT_DIM)\n",
    "random_array = np.random.rand(*shape).astype(np.float32)"
   ]
  },
  {
   "cell_type": "code",
   "execution_count": null,
   "metadata": {},
   "outputs": [],
   "source": [
    "random_array.tofile(uk2006+\"feats.bin\")"
   ]
  },
  {
   "cell_type": "code",
   "execution_count": null,
   "metadata": {},
   "outputs": [],
   "source": [
    "\n",
    "uk2007=\"/raid/bear/dataset/uk-2007-05/\"\n",
    "NUM_NODE=105896555\n",
    "NUM_EDGE=3738733648\n",
    "FEAT_DIM=500\n",
    "NUM_CLASS=150\n",
    "NUM_TRAIN_SET=1000000\n",
    "NUM_VALID_SET=200000\n",
    "NUM_TEST_SET=100000\n",
    "shape = (NUM_NODE, FEAT_DIM)\n",
    "random_array = np.random.rand(*shape).astype(np.float32)"
   ]
  },
  {
   "cell_type": "code",
   "execution_count": null,
   "metadata": {},
   "outputs": [],
   "source": [
    "random_array.tofile(uk2007+\"feats.bin\")"
   ]
  }
 ],
 "metadata": {
  "kernelspec": {
   "display_name": "graphtest",
   "language": "python",
   "name": "python3"
  },
  "language_info": {
   "codemirror_mode": {
    "name": "ipython",
    "version": 3
   },
   "file_extension": ".py",
   "mimetype": "text/x-python",
   "name": "python",
   "nbconvert_exporter": "python",
   "pygments_lexer": "ipython3",
   "version": "3.8.16"
  },
  "orig_nbformat": 4
 },
 "nbformat": 4,
 "nbformat_minor": 2
}

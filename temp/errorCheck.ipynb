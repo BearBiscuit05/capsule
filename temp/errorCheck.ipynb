{
 "cells": [
  {
   "cell_type": "code",
   "execution_count": null,
   "metadata": {},
   "outputs": [],
   "source": [
    "from scipy.sparse import csr_matrix\n",
    "from scipy.sparse import coo_matrix\n",
    "import numpy as np \n",
    "import torch\n",
    "import dgl\n",
    "from dgl.data import AsNodePredDataset\n",
    "from ogb.nodeproppred import DglNodePropPredDataset\n",
    "from dgl.dataloading import DataLoader, NeighborSampler, MultiLayerFullNeighborSampler"
   ]
  },
  {
   "cell_type": "code",
   "execution_count": null,
   "metadata": {},
   "outputs": [],
   "source": [
    "dataset = AsNodePredDataset(DglNodePropPredDataset('ogbn-papers100M',root=\"/home/bear/workspace/singleGNN/data/dataset\"))\n",
    "g = dataset[0]\n",
    "GSRC = g.edges()[0]\n",
    "GDST = g.edges()[1]"
   ]
  },
  {
   "cell_type": "code",
   "execution_count": null,
   "metadata": {},
   "outputs": [],
   "source": [
    "sampler = NeighborSampler([3,3,3])\n",
    "train_idx = dataset.train_idx.to('cuda')\n",
    "train_dataloader = DataLoader(g, train_idx, sampler, device='cuda',\n",
    "                                batch_size=8, shuffle=False,\n",
    "                                drop_last=False, num_workers=0,\n",
    "                                use_uva=True)"
   ]
  },
  {
   "cell_type": "code",
   "execution_count": null,
   "metadata": {},
   "outputs": [],
   "source": [
    "for it, (input_nodes, output_nodes, blocks) in enumerate(train_dataloader):\n",
    "    print(blocks)\n",
    "    break\n",
    "\n",
    "# blocks[0].ndata[dgl.NID] 检测源节点ID\n",
    "blockEdgeId = blocks[2].edata[dgl.EID] # 检测源边ID\n",
    "blockEdgeId\n",
    "blockSRC = GSRC[blockEdgeId]\n",
    "blockDST = GDST[blockEdgeId]\n",
    "blockEdge = torch.stack((blockSRC, blockDST), dim=0)\n",
    "blockEdge # 抽取被采样的边"
   ]
  },
  {
   "cell_type": "code",
   "execution_count": null,
   "metadata": {},
   "outputs": [],
   "source": [
    "edges0 = np.fromfile(\"/home/bear/workspace/single-gnn/tmp/part0.bin\",dtype=np.int32)\n",
    "trainIds = np.fromfile(\"/home/bear/workspace/single-gnn/tmp/trainIds0.bin\",dtype=np.int64)\n",
    "edges0 = edges0.reshape(-1,2)\n",
    "edges0 = edges0[120718:]\n",
    "src = edges0.reshape(-1)[::2]\n",
    "dst = edges0.reshape(-1)[1::2]"
   ]
  },
  {
   "cell_type": "code",
   "execution_count": null,
   "metadata": {},
   "outputs": [],
   "source": [
    "t = g.has_edges_between(src,dst) # 测试子图正常性\n",
    "t.numel() == t.sum()"
   ]
  },
  {
   "cell_type": "code",
   "execution_count": null,
   "metadata": {},
   "outputs": [],
   "source": [
    "mask = np.isin(blockEdge, edges0)\n",
    "mask.reshape(-1).all()"
   ]
  }
 ],
 "metadata": {
  "kernelspec": {
   "display_name": "graphtest",
   "language": "python",
   "name": "python3"
  },
  "language_info": {
   "codemirror_mode": {
    "name": "ipython",
    "version": 3
   },
   "file_extension": ".py",
   "mimetype": "text/x-python",
   "name": "python",
   "nbconvert_exporter": "python",
   "pygments_lexer": "ipython3",
   "version": "3.8.16"
  }
 },
 "nbformat": 4,
 "nbformat_minor": 2
}

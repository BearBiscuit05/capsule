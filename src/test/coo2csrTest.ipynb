{
 "cells": [
  {
   "cell_type": "code",
   "execution_count": 1,
   "metadata": {},
   "outputs": [
    {
     "name": "stderr",
     "output_type": "stream",
     "text": [
      "/home/bear/miniconda3/envs/dgl_v09/lib/python3.8/site-packages/tqdm/auto.py:21: TqdmWarning: IProgress not found. Please update jupyter and ipywidgets. See https://ipywidgets.readthedocs.io/en/stable/user_install.html\n",
      "  from .autonotebook import tqdm as notebook_tqdm\n"
     ]
    }
   ],
   "source": [
    "import numpy as np\n",
    "import torch\n",
    "import dgl\n",
    "import time\n"
   ]
  },
  {
   "cell_type": "code",
   "execution_count": 2,
   "metadata": {},
   "outputs": [],
   "source": [
    "def coo2csr_sort(row,col):\n",
    "    sort_row,indice = torch.sort(row,dim=0)\n",
    "    indice = col[indice]\n",
    "    inptr = torch.cat([torch.Tensor([0]).to(torch.int32),torch.cumsum(torch.bincount(sort_row), dim=0)])\n",
    "    return inptr,indice\n",
    "\n",
    "def coo2csr_dgl(srcs,dsts):\n",
    "    g = dgl.graph((dsts,srcs)).formats('csr')       # Sequential switching is equivalent to converting CSC and compressing dst\n",
    "    indptr, indices, _ = g.adj_sparse(fmt='csr')\n",
    "    return indptr,indices\n",
    "\n"
   ]
  },
  {
   "cell_type": "code",
   "execution_count": 3,
   "metadata": {},
   "outputs": [],
   "source": [
    "def cooTocsr(srcList,dstList,sliceNUM=1,device=torch.device('cpu')):\n",
    "    dstList = dstList.cuda()\n",
    "    inptr = torch.cat([torch.Tensor([0]).to(torch.int32).to(dstList.device),torch.cumsum(torch.bincount(dstList), dim=0)]).to(torch.int32)\n",
    "    indice = torch.zeros_like(srcList).to(torch.int32).cuda()\n",
    "    addr = inptr.clone()[:-1].cuda()\n",
    "    if sliceNUM == 1:\n",
    "        srcList = srcList.cuda()\n",
    "        dgl.cooTocsr(inptr,indice,addr,dstList,srcList) # TODO : Compress the fourth argument of the function, so dst and src are switched sequentially\n",
    "        inptr = inptr.cpu() \n",
    "        indice = indice.cpu()\n",
    "        addr = None\n",
    "        srcList = srcList.cpu()\n",
    "        dstList = dstList.cpu()\n",
    "        return inptr,indice\n",
    "    else:\n",
    "        dstList = dstList.cpu()\n",
    "        src_batches = torch.chunk(srcList, sliceNUM, dim=0)\n",
    "        dst_batches = torch.chunk(dstList, sliceNUM, dim=0)\n",
    "        batch = [src_batches, dst_batches]\n",
    "        for _,(src_batch,dst_batch) in enumerate(zip(*batch)):\n",
    "            src_batch = src_batch.cuda()\n",
    "            dst_batch = dst_batch.cuda()\n",
    "            dgl.cooTocsr(inptr,indice,addr,dst_batch,src_batch) # compact dst save src\n",
    "        addr,dst_batch,src_batch= None,None,None\n",
    "        inptr = inptr.cpu() \n",
    "        indice = indice.cpu()\n",
    "        return inptr,indice"
   ]
  },
  {
   "cell_type": "code",
   "execution_count": 9,
   "metadata": {},
   "outputs": [
    {
     "name": "stdout",
     "output_type": "stream",
     "text": [
      "ptr:  tensor([0, 0, 1, 2, 3, 4, 5, 6, 7])\n",
      "indices:  tensor([0, 0, 0, 1, 1, 3, 3], dtype=torch.int32)\n",
      "----------\n",
      "ptr:  tensor([0, 3, 5, 5, 7])\n",
      "indices:  tensor([1, 2, 3, 4, 5, 6, 7], dtype=torch.int32)\n"
     ]
    }
   ],
   "source": [
    "dst = torch.tensor([0,0,0,1,1,3,3]).to(torch.int32)#.cuda()\n",
    "src = torch.tensor([1,2,3,4,5,6,7]).to(torch.int32)#.cuda()\n",
    "indptr, indices = coo2csr_sort(src,dst)\n",
    "print(\"ptr: \",indptr)\n",
    "print(\"indices: \",indices)\n",
    "print('-'*10)\n",
    "indptr, indices = coo2csr_sort(dst,src)\n",
    "print(\"ptr: \",indptr)\n",
    "print(\"indices: \",indices)"
   ]
  },
  {
   "cell_type": "code",
   "execution_count": 10,
   "metadata": {},
   "outputs": [
    {
     "name": "stdout",
     "output_type": "stream",
     "text": [
      "ptr:  tensor([0, 3, 5, 5, 7, 7, 7, 7, 7], dtype=torch.int32)\n",
      "indices:  tensor([1, 2, 3, 4, 5, 6, 7], dtype=torch.int32)\n",
      "----------\n",
      "ptr:  tensor([0, 0, 1, 2, 3, 4, 5, 6, 7], dtype=torch.int32)\n",
      "indices:  tensor([0, 0, 0, 1, 1, 3, 3], dtype=torch.int32)\n"
     ]
    }
   ],
   "source": [
    "indptr, indices = coo2csr_dgl(src,dst)\n",
    "print(\"ptr: \",indptr)\n",
    "print(\"indices: \",indices)\n",
    "print('-'*10)\n",
    "indptr, indices = coo2csr_dgl(dst,src)\n",
    "print(\"ptr: \",indptr)\n",
    "print(\"indices: \",indices)"
   ]
  },
  {
   "cell_type": "code",
   "execution_count": 12,
   "metadata": {},
   "outputs": [
    {
     "name": "stdout",
     "output_type": "stream",
     "text": [
      "ptr:  tensor([0, 3, 5, 5, 7], dtype=torch.int32)\n",
      "indices:  tensor([1, 2, 3, 4, 5, 6, 7], dtype=torch.int32)\n",
      "----------\n",
      "ptr:  tensor([0, 0, 1, 2, 3, 4, 5, 6, 7], dtype=torch.int32)\n",
      "indices:  tensor([0, 0, 0, 1, 1, 3, 3], dtype=torch.int32)\n"
     ]
    }
   ],
   "source": [
    "indptr, indices = cooTocsr(src,dst,sliceNUM=1,device=torch.device('cpu'))\n",
    "print(\"ptr: \",indptr)\n",
    "print(\"indices: \",indices)\n",
    "indptr, indices = cooTocsr(dst,src,sliceNUM=1,device=torch.device('cpu'))\n",
    "print('-'*10)\n",
    "print(\"ptr: \",indptr)\n",
    "print(\"indices: \",indices)"
   ]
  }
 ],
 "metadata": {
  "kernelspec": {
   "display_name": "dgl_v09",
   "language": "python",
   "name": "python3"
  },
  "language_info": {
   "codemirror_mode": {
    "name": "ipython",
    "version": 3
   },
   "file_extension": ".py",
   "mimetype": "text/x-python",
   "name": "python",
   "nbconvert_exporter": "python",
   "pygments_lexer": "ipython3",
   "version": "3.8.17"
  }
 },
 "nbformat": 4,
 "nbformat_minor": 2
}

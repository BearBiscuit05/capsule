{
 "cells": [
  {
   "cell_type": "code",
   "execution_count": 2,
   "metadata": {},
   "outputs": [
    {
     "name": "stderr",
     "output_type": "stream",
     "text": [
      "/home/bear/miniconda3/envs/dgl_v09/lib/python3.8/site-packages/tqdm/auto.py:21: TqdmWarning: IProgress not found. Please update jupyter and ipywidgets. See https://ipywidgets.readthedocs.io/en/stable/user_install.html\n",
      "  from .autonotebook import tqdm as notebook_tqdm\n"
     ]
    }
   ],
   "source": [
    "import numpy as np\n",
    "import torch\n",
    "import dgl\n",
    "import time\n"
   ]
  },
  {
   "cell_type": "code",
   "execution_count": 14,
   "metadata": {},
   "outputs": [],
   "source": [
    "# G_MEM: 16G\n",
    "MAXEDGE = 1000000000    # \n",
    "MAXSHUFFLE = 30000000   # \n"
   ]
  },
  {
   "cell_type": "code",
   "execution_count": 27,
   "metadata": {},
   "outputs": [],
   "source": [
    "def convert_to_tensor(data, dtype=torch.int32):\n",
    "    if isinstance(data, np.ndarray):\n",
    "        return torch.from_numpy(data).to(dtype)\n",
    "    else:\n",
    "        return data.to(dtype)\n",
    "\n",
    "def remapEdgeId(uniTable,srcList,dstList,device=torch.device('cpu'),remap=None):\n",
    "    if remap == None:\n",
    "        # setup ramap table\n",
    "        index = torch.arange(len(uniTable),dtype=torch.int32,device=device)\n",
    "        remap = torch.zeros(torch.max(uniTable)+1,dtype=torch.int32,device=device)\n",
    "        remap[uniTable.to(torch.int64)] = index\n",
    "    uniTable = uniTable.cpu()\n",
    "    if srcList != None:\n",
    "        srcList = srcList.to(device)\n",
    "        srcList = remap[srcList.to(torch.int64)]\n",
    "        srcList = srcList.cpu()\n",
    "    if dstList != None:\n",
    "        dstList = dstList.to(device)\n",
    "        dstList = remap[dstList.to(torch.int64)]\n",
    "        dstList = dstList.cpu()\n",
    "    return srcList,dstList,remap\n",
    "\n",
    "\n",
    "def nodeShuffle(raw_node,raw_graph):\n",
    "    srcs, dsts = raw_graph[::2], raw_graph[1::2]\n",
    "    raw_node = convert_to_tensor(raw_node, dtype=torch.int32).cuda()\n",
    "    srcs_tensor = convert_to_tensor(srcs, dtype=torch.int32)\n",
    "    dsts_tensor = convert_to_tensor(dsts, dtype=torch.int32)\n",
    "    uniTable = torch.ones(len(raw_node),dtype=torch.int32,device=\"cuda\")\n",
    "    batch_size = len(srcs) // (MAXEDGE//2) + 1\n",
    "    src_batches = list(torch.chunk(srcs_tensor, batch_size, dim=0))\n",
    "    dst_batches = list(torch.chunk(dsts_tensor, batch_size, dim=0))\n",
    "    batch = [src_batches, dst_batches]\n",
    "    src_emp,dst_emp = raw_node[:1].clone(), raw_node[:1].clone()    # padding , no use\n",
    "    srcShuffled,dstShuffled,uniTable = dgl.mapByNodeSet(raw_node,uniTable,src_emp,dst_emp,rhsNeed=False,include_rhs_in_lhs=False)\n",
    "    remap = None\n",
    "    for index,(src_batch,dst_batch) in enumerate(zip(*batch)):\n",
    "        srcShuffled,dstShuffled,remap = remapEdgeId(uniTable,src_batch,dst_batch,remap=remap,device=torch.device('cuda:0'))\n",
    "        src_batches[index] = srcShuffled\n",
    "        dst_batches[index] = dstShuffled \n",
    "    srcs_tensor = torch.cat(src_batches)\n",
    "    dsts_tensor = torch.cat(dst_batches)\n",
    "    uniTable = uniTable.cpu()\n",
    "    return srcs_tensor,dsts_tensor,uniTable"
   ]
  },
  {
   "cell_type": "code",
   "execution_count": 3,
   "metadata": {},
   "outputs": [
    {
     "name": "stdout",
     "output_type": "stream",
     "text": [
      "G:  tensor([11, 10, 12, 10, 13, 10, 14, 11, 15, 11, 16, 13, 17, 13, 11, 10, 12, 10,\n",
      "        13, 10, 14, 11, 15, 11, 16, 13, 17, 13, 11, 10, 12, 10, 13, 10, 14, 11,\n",
      "        15, 11, 16, 13, 17, 13, 11, 10, 12, 10, 13, 10, 14, 11, 15, 11, 16, 13,\n",
      "        17, 13], dtype=torch.int32)\n",
      "src:  tensor([11, 12, 13, 14, 15, 16, 17, 11, 12, 13, 14, 15, 16, 17, 11, 12, 13, 14,\n",
      "        15, 16, 17, 11, 12, 13, 14, 15, 16, 17], dtype=torch.int32)\n",
      "dst:  tensor([10, 10, 10, 11, 11, 13, 13, 10, 10, 10, 11, 11, 13, 13, 10, 10, 10, 11,\n",
      "        11, 13, 13, 10, 10, 10, 11, 11, 13, 13], dtype=torch.int32)\n",
      "nodeId:  tensor([ 8,  9, 10, 11, 12, 13, 14, 15, 16, 17, 18, 19], dtype=torch.int32)\n"
     ]
    }
   ],
   "source": [
    "src = torch.tensor([1,2,3,4,5,6,7]).to(torch.int32) + 10\n",
    "dst = torch.tensor([0,0,0,1,1,3,3]).to(torch.int32) + 10\n",
    "nodeId = torch.arange(20,dtype=torch.int32)[8:]\n",
    "graph = torch.stack((src,dst),dim=1).reshape(-1)\n",
    "graph = torch.cat([graph,graph,graph,graph])\n",
    "print(\"G: \",graph)\n",
    "print(\"src: \",graph[::2])\n",
    "print(\"dst: \",graph[1::2])\n",
    "print(\"nodeId: \",nodeId)"
   ]
  },
  {
   "cell_type": "code",
   "execution_count": 8,
   "metadata": {},
   "outputs": [],
   "source": [
    "graph = torch.as_tensor(np.fromfile(\"/home/bear/workspace/single-gnn/data/partition/FR/part0/raw_G.bin\",dtype=np.int32))\n",
    "node = torch.as_tensor(np.fromfile(\"/home/bear/workspace/single-gnn/data/partition/FR/part0/raw_nodes.bin\",dtype=np.int32))"
   ]
  },
  {
   "cell_type": "code",
   "execution_count": 21,
   "metadata": {},
   "outputs": [],
   "source": [
    "node = torch.cat([node,node,node,node]).to(torch.int32).cuda()"
   ]
  },
  {
   "cell_type": "code",
   "execution_count": 28,
   "metadata": {},
   "outputs": [
    {
     "data": {
      "text/plain": [
       "torch.Size([114585868])"
      ]
     },
     "execution_count": 28,
     "metadata": {},
     "output_type": "execute_result"
    }
   ],
   "source": [
    "node.shape"
   ]
  },
  {
   "cell_type": "code",
   "execution_count": null,
   "metadata": {},
   "outputs": [],
   "source": [
    "srcs_tensor,dsts_tensor,uniTable = nodeShuffle(node,graph)"
   ]
  },
  {
   "cell_type": "code",
   "execution_count": 24,
   "metadata": {},
   "outputs": [
    {
     "data": {
      "text/plain": [
       "tensor(28646466, dtype=torch.int32)"
      ]
     },
     "execution_count": 24,
     "metadata": {},
     "output_type": "execute_result"
    }
   ],
   "source": [
    "torch.max(dsts_tensor)"
   ]
  },
  {
   "cell_type": "code",
   "execution_count": 25,
   "metadata": {},
   "outputs": [
    {
     "data": {
      "text/plain": [
       "tensor([       0,        1,        2,  ..., 65598687, 65599292, 65599766],\n",
       "       dtype=torch.int32)"
      ]
     },
     "execution_count": 25,
     "metadata": {},
     "output_type": "execute_result"
    }
   ],
   "source": [
    "uniTable"
   ]
  },
  {
   "cell_type": "code",
   "execution_count": 26,
   "metadata": {},
   "outputs": [
    {
     "data": {
      "text/plain": [
       "torch.Size([28646467])"
      ]
     },
     "execution_count": 26,
     "metadata": {},
     "output_type": "execute_result"
    }
   ],
   "source": [
    "uniTable.shape"
   ]
  }
 ],
 "metadata": {
  "kernelspec": {
   "display_name": "dgl_v09",
   "language": "python",
   "name": "python3"
  },
  "language_info": {
   "codemirror_mode": {
    "name": "ipython",
    "version": 3
   },
   "file_extension": ".py",
   "mimetype": "text/x-python",
   "name": "python",
   "nbconvert_exporter": "python",
   "pygments_lexer": "ipython3",
   "version": "3.8.17"
  }
 },
 "nbformat": 4,
 "nbformat_minor": 2
}

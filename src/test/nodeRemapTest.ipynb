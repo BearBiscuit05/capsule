{
 "cells": [
  {
   "cell_type": "code",
   "execution_count": 1,
   "metadata": {},
   "outputs": [
    {
     "name": "stderr",
     "output_type": "stream",
     "text": [
      "/home/bear/miniconda3/envs/dgl_v09/lib/python3.8/site-packages/tqdm/auto.py:21: TqdmWarning: IProgress not found. Please update jupyter and ipywidgets. See https://ipywidgets.readthedocs.io/en/stable/user_install.html\n",
      "  from .autonotebook import tqdm as notebook_tqdm\n"
     ]
    }
   ],
   "source": [
    "import numpy as np\n",
    "import torch\n",
    "import dgl\n",
    "import time\n"
   ]
  },
  {
   "cell_type": "code",
   "execution_count": 2,
   "metadata": {},
   "outputs": [],
   "source": [
    "# G_MEM: 16G\n",
    "MAXEDGE = 1000000000    # \n",
    "MAXSHUFFLE = 30000000   # \n"
   ]
  },
  {
   "cell_type": "code",
   "execution_count": 3,
   "metadata": {},
   "outputs": [],
   "source": [
    "def convert_to_tensor(data, dtype=torch.int32):\n",
    "    if isinstance(data, np.ndarray):\n",
    "        return torch.from_numpy(data).to(dtype)\n",
    "    else:\n",
    "        return data.to(dtype)\n",
    "\n",
    "def remapEdgeId(uniTable,srcList,dstList,device=torch.device('cpu'),remap=None):\n",
    "    if remap == None:\n",
    "        # 构建ramap表\n",
    "        index = torch.arange(len(uniTable),dtype=torch.int32,device=device)\n",
    "        remap = torch.zeros(torch.max(uniTable)+1,dtype=torch.int32,device=device)\n",
    "        remap[uniTable.to(torch.int64)] = index\n",
    "    uniTable = uniTable.cpu()\n",
    "    if srcList != None:\n",
    "        srcList = srcList.to(device)\n",
    "        srcList = remap[srcList.to(torch.int64)]\n",
    "        srcList = srcList.cpu()\n",
    "    if dstList != None:\n",
    "        dstList = dstList.to(device)\n",
    "        dstList = remap[dstList.to(torch.int64)]\n",
    "        dstList = dstList.cpu()\n",
    "    return srcList,dstList,remap\n",
    "\n",
    "\n",
    "def nodeShuffle(raw_node,raw_graph):\n",
    "    srcs = raw_graph[::2]\n",
    "    dsts = raw_graph[1::2]\n",
    "    raw_node = convert_to_tensor(raw_node, dtype=torch.int32).cuda()\n",
    "    srcs_tensor = convert_to_tensor(srcs, dtype=torch.int32)\n",
    "    dsts_tensor = convert_to_tensor(dsts, dtype=torch.int32)\n",
    "    uniTable = torch.ones(len(raw_node),dtype=torch.int32,device=\"cuda\")\n",
    "    batch_size = len(srcs) // (MAXEDGE//2) + 1\n",
    "    src_batches = list(torch.chunk(srcs_tensor, batch_size, dim=0))\n",
    "    dst_batches = list(torch.chunk(dsts_tensor, batch_size, dim=0))\n",
    "    batch = [src_batches, dst_batches]\n",
    "    start = time.time()\n",
    "    src_emp = raw_node[:1].clone()\n",
    "    dst_emp = raw_node[:1].clone()\n",
    "    srcShuffled,dstShuffled,uniTable = dgl.mapByNodeSet(raw_node,uniTable,src_emp,dst_emp)\n",
    "    remap = None\n",
    "    for index,(src_batch,dst_batch) in enumerate(zip(*batch)):\n",
    "        srcShuffled,dstShuffled,remap = remapEdgeId(uniTable,src_batch,dst_batch,remap=remap,device=torch.device('cuda:0'))\n",
    "        src_batches[index] = srcShuffled\n",
    "        dst_batches[index] = dstShuffled \n",
    "    srcs_tensor = torch.cat(src_batches)\n",
    "    dsts_tensor = torch.cat(dst_batches)\n",
    "    uniTable = uniTable.cpu()\n",
    "    print(f\"node shuffle time :{time.time()-start:.4f}\")\n",
    "    return srcs_tensor,dsts_tensor,uniTable"
   ]
  },
  {
   "cell_type": "code",
   "execution_count": 4,
   "metadata": {},
   "outputs": [
    {
     "name": "stdout",
     "output_type": "stream",
     "text": [
      "G:  tensor([11, 10, 12, 10, 13, 10, 14, 11, 15, 11, 16, 13, 17, 13, 11, 10, 12, 10,\n",
      "        13, 10, 14, 11, 15, 11, 16, 13, 17, 13, 11, 10, 12, 10, 13, 10, 14, 11,\n",
      "        15, 11, 16, 13, 17, 13, 11, 10, 12, 10, 13, 10, 14, 11, 15, 11, 16, 13,\n",
      "        17, 13], dtype=torch.int32)\n",
      "src:  tensor([11, 12, 13, 14, 15, 16, 17, 11, 12, 13, 14, 15, 16, 17, 11, 12, 13, 14,\n",
      "        15, 16, 17, 11, 12, 13, 14, 15, 16, 17], dtype=torch.int32)\n",
      "dst:  tensor([10, 10, 10, 11, 11, 13, 13, 10, 10, 10, 11, 11, 13, 13, 10, 10, 10, 11,\n",
      "        11, 13, 13, 10, 10, 10, 11, 11, 13, 13], dtype=torch.int32)\n",
      "nodeId:  tensor([ 8,  9, 10, 11, 12, 13, 14, 15, 16, 17, 18, 19], dtype=torch.int32)\n"
     ]
    }
   ],
   "source": [
    "src = torch.tensor([1,2,3,4,5,6,7]).to(torch.int32) + 10\n",
    "dst = torch.tensor([0,0,0,1,1,3,3]).to(torch.int32) + 10\n",
    "nodeId = torch.arange(20,dtype=torch.int32)[8:]\n",
    "graph = torch.stack((src,dst),dim=1).reshape(-1)\n",
    "graph = torch.cat([graph,graph,graph,graph])\n",
    "print(\"G: \",graph)\n",
    "print(\"src: \",graph[::2])\n",
    "print(\"dst: \",graph[1::2])\n",
    "print(\"nodeId: \",nodeId)"
   ]
  },
  {
   "cell_type": "code",
   "execution_count": 5,
   "metadata": {},
   "outputs": [
    {
     "name": "stdout",
     "output_type": "stream",
     "text": [
      "src:  tensor([11, 12, 13, 14, 15, 16, 17], dtype=torch.int32)\n",
      "dst:  tensor([10, 10, 10, 11, 11, 13, 13], dtype=torch.int32)\n",
      "--------------------\n",
      "node shuffle time :0.1625\n",
      "src:  tensor([3, 4, 5, 6, 7, 8, 9, 3, 4, 5, 6, 7, 8, 9, 3, 4, 5, 6, 7, 8, 9, 3, 4, 5,\n",
      "        6, 7, 8, 9], dtype=torch.int32)\n",
      "dst:  tensor([2, 2, 2, 3, 3, 5, 5, 2, 2, 2, 3, 3, 5, 5, 2, 2, 2, 3, 3, 5, 5, 2, 2, 2,\n",
      "        3, 3, 5, 5], dtype=torch.int32)\n",
      "uni:  tensor([ 8,  9, 10, 11, 12, 13, 14, 15, 16, 17, 18, 19], dtype=torch.int32)\n"
     ]
    }
   ],
   "source": [
    "# G_MEM: 16G\n",
    "MAXEDGE = 16    # \n",
    "MAXSHUFFLE = 8   # \n",
    "\n",
    "\n",
    "print(\"src: \",src)\n",
    "print(\"dst: \",dst)\n",
    "print(\"-\"*20)\n",
    "srcs_tensor,dsts_tensor,uni = nodeShuffle(nodeId,graph)\n",
    "print(\"src: \",srcs_tensor)\n",
    "print(\"dst: \",dsts_tensor)\n",
    "print(\"uni: \",uni)"
   ]
  },
  {
   "cell_type": "code",
   "execution_count": null,
   "metadata": {},
   "outputs": [],
   "source": [
    "def nodeShuffle(raw_node,raw_graph):\n",
    "    srcs = raw_graph[::2]\n",
    "    dsts = raw_graph[1::2]\n",
    "    raw_node = convert_to_tensor(raw_node, dtype=torch.int32).cuda()\n",
    "    srcs_tensor = convert_to_tensor(srcs, dtype=torch.int32)\n",
    "    dsts_tensor = convert_to_tensor(dsts, dtype=torch.int32)\n",
    "    uni = torch.ones(len(raw_node)).to(torch.int32).cuda()  \n",
    "    if len(raw_node) <= MAXSHUFFLE:\n",
    "        batch_size = len(srcs) // (MAXEDGE// 8) + 1\n",
    "        print(\"batch size :\",batch_size)\n",
    "        src_batches = list(torch.chunk(srcs_tensor, batch_size, dim=0))\n",
    "        dst_batches = list(torch.chunk(dsts_tensor, batch_size, dim=0))\n",
    "        batch = [src_batches, dst_batches]\n",
    "        start = time.time()\n",
    "        for index,(src_batch,dst_batch) in enumerate(zip(*batch)):\n",
    "            print(\"slice map by node\")\n",
    "            src_batch = src_batch.cuda()\n",
    "            dst_batch = dst_batch.cuda()\n",
    "            srcShuffled,dstShuffled,uni = dgl.mapByNodeSet(raw_node,uni,src_batch,dst_batch)\n",
    "            srcShuffled = srcShuffled.cpu()\n",
    "            dstShuffled = dstShuffled.cpu()   \n",
    "            src_batches[index] = srcShuffled\n",
    "            dst_batches[index] = dstShuffled \n",
    "        srcs_tensor = torch.cat(src_batches)\n",
    "        dsts_tensor = torch.cat(dst_batches)\n",
    "        uni = uni.cpu()\n",
    "        print(f\"using time :{time.time()-start:.4f}\")\n",
    "        return srcs_tensor,dsts_tensor,uni\n",
    "    else:\n",
    "        batch_size = len(srcs) // (MAXEDGE//2) + 1\n",
    "        src_batches = list(torch.chunk(srcs_tensor, batch_size, dim=0))\n",
    "        dst_batches = list(torch.chunk(dsts_tensor, batch_size, dim=0))\n",
    "        batch = [src_batches, dst_batches]\n",
    "        start = time.time()\n",
    "        src_emp = raw_node[:1].clone()\n",
    "        dst_emp = raw_node[:1].clone()\n",
    "        srcShuffled,dstShuffled,uni = dgl.mapByNodeSet(raw_node,uni,src_emp,dst_emp)\n",
    "        for index,(src_batch,dst_batch) in enumerate(zip(*batch)):\n",
    "            print(\"slice remap\")\n",
    "            srcShuffled,dstShuffled = remapEdgeId(uni,src_batch,dst_batch,device=torch.device('cuda:0'))\n",
    "            src_batches[index] = srcShuffled\n",
    "            dst_batches[index] = dstShuffled \n",
    "        srcs_tensor = torch.cat(src_batches)\n",
    "        dsts_tensor = torch.cat(dst_batches)\n",
    "        uni = uni.cpu()\n",
    "        print(f\"node shuffle time :{time.time()-start:.4f}\")\n",
    "        return srcs_tensor,dsts_tensor,uni"
   ]
  }
 ],
 "metadata": {
  "kernelspec": {
   "display_name": "dgl_v09",
   "language": "python",
   "name": "python3"
  },
  "language_info": {
   "codemirror_mode": {
    "name": "ipython",
    "version": 3
   },
   "file_extension": ".py",
   "mimetype": "text/x-python",
   "name": "python",
   "nbconvert_exporter": "python",
   "pygments_lexer": "ipython3",
   "version": "3.8.17"
  }
 },
 "nbformat": 4,
 "nbformat_minor": 2
}

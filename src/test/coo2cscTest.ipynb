{
 "cells": [
  {
   "cell_type": "code",
   "execution_count": 2,
   "metadata": {},
   "outputs": [
    {
     "name": "stderr",
     "output_type": "stream",
     "text": [
      "/home/bear/miniconda3/envs/dgl_v09/lib/python3.8/site-packages/tqdm/auto.py:21: TqdmWarning: IProgress not found. Please update jupyter and ipywidgets. See https://ipywidgets.readthedocs.io/en/stable/user_install.html\n",
      "  from .autonotebook import tqdm as notebook_tqdm\n"
     ]
    }
   ],
   "source": [
    "import numpy as np\n",
    "import torch\n",
    "import dgl\n",
    "import time\n"
   ]
  },
  {
   "cell_type": "code",
   "execution_count": 3,
   "metadata": {},
   "outputs": [],
   "source": [
    "def coo2csc_sort(row,col):  # src,dst\n",
    "    sort_col,indice = torch.sort(col,dim=0)\n",
    "    indice = row[indice]\n",
    "    inptr = torch.cat([torch.Tensor([0]).to(torch.int32),torch.cumsum(torch.bincount(sort_col), dim=0)])\n",
    "    return inptr,indice\n",
    "\n",
    "def coo2csc_dgl(srcs,dsts):\n",
    "    g = dgl.graph((srcs,dsts)).formats('csc')       # Sequential switching is equivalent to converting CSC and compressing dst\n",
    "    indptr, indices, _ = g.adj_sparse(fmt='csc')\n",
    "    return indptr,indices\n",
    "\n"
   ]
  },
  {
   "cell_type": "code",
   "execution_count": 4,
   "metadata": {},
   "outputs": [
    {
     "name": "stdout",
     "output_type": "stream",
     "text": [
      "ptr:  tensor([0, 3, 5, 5, 7])\n",
      "indices:  tensor([1, 2, 3, 4, 5, 6, 7], dtype=torch.int32)\n",
      "----------\n",
      "ptr:  tensor([0, 0, 1, 2, 3, 4, 5, 6, 7])\n",
      "indices:  tensor([0, 0, 0, 1, 1, 3, 3], dtype=torch.int32)\n"
     ]
    }
   ],
   "source": [
    "dst = torch.tensor([0,0,0,1,1,3,3]).to(torch.int32)#.cuda()\n",
    "src = torch.tensor([1,2,3,4,5,6,7]).to(torch.int32)#.cuda()\n",
    "indptr, indices = coo2csc_sort(src,dst)\n",
    "print(\"ptr: \",indptr)\n",
    "print(\"indices: \",indices)\n",
    "print('-'*10)\n",
    "indptr, indices = coo2csc_sort(dst,src)\n",
    "print(\"ptr: \",indptr)\n",
    "print(\"indices: \",indices)"
   ]
  },
  {
   "cell_type": "code",
   "execution_count": 5,
   "metadata": {},
   "outputs": [
    {
     "name": "stdout",
     "output_type": "stream",
     "text": [
      "ptr:  tensor([0, 3, 5, 5, 7, 7, 7, 7, 7], dtype=torch.int32)\n",
      "indices:  tensor([1, 2, 3, 4, 5, 6, 7], dtype=torch.int32)\n",
      "----------\n",
      "ptr:  tensor([0, 0, 1, 2, 3, 4, 5, 6, 7], dtype=torch.int32)\n",
      "indices:  tensor([0, 0, 0, 1, 1, 3, 3], dtype=torch.int32)\n"
     ]
    }
   ],
   "source": [
    "indptr, indices = coo2csc_dgl(src,dst)\n",
    "print(\"ptr: \",indptr)\n",
    "print(\"indices: \",indices)\n",
    "print('-'*10)\n",
    "indptr, indices = coo2csc_dgl(dst,src)\n",
    "print(\"ptr: \",indptr)\n",
    "print(\"indices: \",indices)"
   ]
  },
  {
   "cell_type": "code",
   "execution_count": 16,
   "metadata": {},
   "outputs": [],
   "source": [
    "def cooTocsc(srcList,dstList,sliceNUM=1,device=torch.device('cpu')):\n",
    "    dstList = dstList.cuda()\n",
    "    inptr = torch.cat([torch.Tensor([0]).to(torch.int32).to(dstList.device),torch.cumsum(torch.bincount(dstList), dim=0)]).to(torch.int32)\n",
    "    dstList = dstList.cpu()\n",
    "    indice = torch.zeros_like(srcList,dtype=torch.int32,device=\"cuda\")\n",
    "    addr = inptr.clone()[:-1].cuda()\n",
    "    if sliceNUM <= 1:\n",
    "        srcList = srcList.cuda()\n",
    "        dgl.cooTocsr(inptr,indice,addr,dstList,srcList) # compact dst save src\n",
    "        inptr,indice = inptr.cpu(),indice.cpu()\n",
    "        addr = None\n",
    "        srcList = srcList.cpu()\n",
    "        dstList = dstList.cpu()\n",
    "        return inptr,indice\n",
    "    else:\n",
    "        dstList = dstList.cpu()\n",
    "        src_batches = torch.chunk(srcList, sliceNUM, dim=0)\n",
    "        dst_batches = torch.chunk(dstList, sliceNUM, dim=0)\n",
    "        batch = [src_batches, dst_batches]\n",
    "        for _,(src_batch,dst_batch) in enumerate(zip(*batch)):\n",
    "            src_batch = src_batch.cuda()\n",
    "            dst_batch = dst_batch.cuda()\n",
    "            dgl.cooTocsr(inptr,indice,addr,dst_batch,src_batch) # compact dst save src\n",
    "        addr,dst_batch,src_batch= None,None,None\n",
    "        inptr = inptr.cpu() \n",
    "        indice = indice.cpu()\n",
    "        return inptr,indice"
   ]
  },
  {
   "cell_type": "code",
   "execution_count": 7,
   "metadata": {},
   "outputs": [
    {
     "name": "stdout",
     "output_type": "stream",
     "text": [
      "ptr:  tensor([0, 3, 5, 5, 7], dtype=torch.int32)\n",
      "indices:  tensor([1, 2, 3, 4, 5, 6, 7], dtype=torch.int32)\n",
      "----------\n",
      "ptr:  tensor([0, 0, 1, 2, 3, 4, 5, 6, 7], dtype=torch.int32)\n",
      "indices:  tensor([0, 0, 0, 1, 1, 3, 3], dtype=torch.int32)\n"
     ]
    }
   ],
   "source": [
    "indptr, indices = cooTocsc(src,dst,sliceNUM=1,device=torch.device('cpu'))\n",
    "print(\"ptr: \",indptr)\n",
    "print(\"indices: \",indices)\n",
    "indptr, indices = cooTocsc(dst,src,sliceNUM=1,device=torch.device('cpu'))\n",
    "print('-'*10)\n",
    "print(\"ptr: \",indptr)\n",
    "print(\"indices: \",indices)"
   ]
  },
  {
   "cell_type": "code",
   "execution_count": 8,
   "metadata": {},
   "outputs": [],
   "source": [
    "graph = torch.as_tensor(np.fromfile(\"/home/bear/workspace/single-gnn/data/partition/FR/part0/raw_G.bin\",dtype=np.int32))\n",
    "src = graph[::2]\n",
    "dst = graph[1::2]"
   ]
  },
  {
   "cell_type": "code",
   "execution_count": 17,
   "metadata": {},
   "outputs": [
    {
     "name": "stdout",
     "output_type": "stream",
     "text": [
      "ptr:  tensor([         0,          0,          1,  ..., 1082153921, 1082153921,\n",
      "        1082153929], dtype=torch.int32)\n",
      "indices:  tensor([       0,        0,        0,  ..., 16416514,  3076097,  8290834],\n",
      "       dtype=torch.int32)\n"
     ]
    }
   ],
   "source": [
    "indptr, indices = cooTocsc(src,dst,sliceNUM=4,device=torch.device('cpu'))\n",
    "print(\"ptr: \",indptr)\n",
    "print(\"indices: \",indices)"
   ]
  },
  {
   "cell_type": "code",
   "execution_count": 21,
   "metadata": {},
   "outputs": [
    {
     "data": {
      "text/plain": [
       "tensor([ 0,  0,  1,  2,  3,  4,  5,  7, 10, 12, 13, 15, 16, 22, 29, 30, 30, 31,\n",
       "        33, 35], dtype=torch.int32)"
      ]
     },
     "execution_count": 21,
     "metadata": {},
     "output_type": "execute_result"
    }
   ],
   "source": [
    "indptr[:20]"
   ]
  },
  {
   "cell_type": "code",
   "execution_count": 20,
   "metadata": {},
   "outputs": [
    {
     "data": {
      "text/plain": [
       "tensor([   0,    0,    0,    0,    0,    0,  230,    0,    6,    7,    0,  927,\n",
       "           0,    0,    1,    0,    0,    6,    7, 1082,  230, 1084,    0,    6,\n",
       "           7, 1082,  230, 1084,   12,    0,    0,    0,    4,    0, 1092, 1085,\n",
       "           0,    6,    7,   12], dtype=torch.int32)"
      ]
     },
     "execution_count": 20,
     "metadata": {},
     "output_type": "execute_result"
    }
   ],
   "source": [
    "indices[:40]"
   ]
  },
  {
   "cell_type": "code",
   "execution_count": 10,
   "metadata": {},
   "outputs": [
    {
     "name": "stdout",
     "output_type": "stream",
     "text": [
      "ptr:  tensor([         0,          0,          1,  ..., 1082153921, 1082153921,\n",
      "        1082153929], dtype=torch.int32)\n",
      "indices:  tensor([       0,        0,        0,  ..., 16416514,  3076097,  8290834],\n",
      "       dtype=torch.int32)\n"
     ]
    }
   ],
   "source": [
    "dgl_indptr, dgl_indices = coo2csc_dgl(src,dst)\n",
    "print(\"ptr: \",dgl_indptr)\n",
    "print(\"indices: \",dgl_indices)"
   ]
  },
  {
   "cell_type": "code",
   "execution_count": 14,
   "metadata": {},
   "outputs": [
    {
     "data": {
      "text/plain": [
       "tensor([   0,    0,    0,    0,    0,    0,  230,    7,    0,    6,    0,  927,\n",
       "           0,    0,    1,    0,    0,  230,    6,    7, 1082, 1084,    0,  230,\n",
       "           6,    7, 1082, 1084,   12,    0,    0,    0,    4,    0, 1092,    0,\n",
       "           6,    7, 1264,   12], dtype=torch.int32)"
      ]
     },
     "execution_count": 14,
     "metadata": {},
     "output_type": "execute_result"
    }
   ],
   "source": [
    "dgl_indices[:40]"
   ]
  },
  {
   "cell_type": "code",
   "execution_count": null,
   "metadata": {},
   "outputs": [],
   "source": []
  },
  {
   "cell_type": "code",
   "execution_count": 11,
   "metadata": {},
   "outputs": [
    {
     "name": "stdout",
     "output_type": "stream",
     "text": [
      "ptr:  tensor([         0,          0,          1,  ..., 1082153921, 1082153921,\n",
      "        1082153929])\n",
      "indices:  tensor([      0,       0,       0,  ...,  310685, 1356970,  510434],\n",
      "       dtype=torch.int32)\n"
     ]
    }
   ],
   "source": [
    "sort_indptr, sort_indices = coo2csc_sort(src,dst)\n",
    "print(\"ptr: \",sort_indptr)\n",
    "print(\"indices: \",sort_indices)"
   ]
  },
  {
   "cell_type": "code",
   "execution_count": 18,
   "metadata": {},
   "outputs": [
    {
     "data": {
      "text/plain": [
       "True"
      ]
     },
     "execution_count": 18,
     "metadata": {},
     "output_type": "execute_result"
    }
   ],
   "source": [
    "torch.equal(indptr,dgl_indptr)"
   ]
  },
  {
   "cell_type": "code",
   "execution_count": 19,
   "metadata": {},
   "outputs": [
    {
     "data": {
      "text/plain": [
       "True"
      ]
     },
     "execution_count": 19,
     "metadata": {},
     "output_type": "execute_result"
    }
   ],
   "source": [
    "torch.equal(indptr,sort_indptr.to(indptr.dtype))"
   ]
  }
 ],
 "metadata": {
  "kernelspec": {
   "display_name": "dgl_v09",
   "language": "python",
   "name": "python3"
  },
  "language_info": {
   "codemirror_mode": {
    "name": "ipython",
    "version": 3
   },
   "file_extension": ".py",
   "mimetype": "text/x-python",
   "name": "python",
   "nbconvert_exporter": "python",
   "pygments_lexer": "ipython3",
   "version": "3.8.17"
  }
 },
 "nbformat": 4,
 "nbformat_minor": 2
}

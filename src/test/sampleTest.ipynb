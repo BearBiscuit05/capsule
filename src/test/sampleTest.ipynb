{
 "cells": [
  {
   "cell_type": "code",
   "execution_count": 7,
   "metadata": {},
   "outputs": [],
   "source": [
    "import dgl\n",
    "import torch\n",
    "import numpy as np\n",
    "from dgl.dataloading import NeighborSampler, MultiLayerFullNeighborSampler"
   ]
  },
  {
   "cell_type": "code",
   "execution_count": 2,
   "metadata": {},
   "outputs": [],
   "source": [
    "src = torch.Tensor([2,3,4,4,5,6,7]).to(torch.int32)\n",
    "dst = torch.Tensor([0,0,0,2,2,3,3]).to(torch.int32)"
   ]
  },
  {
   "cell_type": "code",
   "execution_count": 3,
   "metadata": {},
   "outputs": [],
   "source": [
    "graph = dgl.graph((src,dst))"
   ]
  },
  {
   "cell_type": "code",
   "execution_count": 9,
   "metadata": {},
   "outputs": [],
   "source": [
    "sample = NeighborSampler([3,3])"
   ]
  },
  {
   "cell_type": "code",
   "execution_count": 14,
   "metadata": {},
   "outputs": [],
   "source": [
    "seed = torch.Tensor([0,1]).to(torch.int32)\n",
    "test_dataloader = dgl.dataloading.DataLoader(graph, seed, sample, device=\"cuda:0\",\n",
    "                                batch_size=2, shuffle=False,\n",
    "                                drop_last=False, num_workers=0,\n",
    "                                use_uva=True)"
   ]
  },
  {
   "cell_type": "code",
   "execution_count": 15,
   "metadata": {},
   "outputs": [
    {
     "name": "stdout",
     "output_type": "stream",
     "text": [
      "[Block(num_src_nodes=8, num_dst_nodes=4, num_edges=6), Block(num_src_nodes=4, num_dst_nodes=2, num_edges=2)]\n"
     ]
    }
   ],
   "source": [
    "for it, (input_nodes, output_nodes, blocks) in enumerate(\n",
    "            test_dataloader\n",
    "        ):\n",
    "    print(blocks)"
   ]
  },
  {
   "cell_type": "code",
   "execution_count": 19,
   "metadata": {},
   "outputs": [
    {
     "data": {
      "text/plain": [
       "{'_N': tensor([0, 1, 2, 3, 4, 5, 6, 7], device='cuda:0', dtype=torch.int32)}"
      ]
     },
     "execution_count": 19,
     "metadata": {},
     "output_type": "execute_result"
    }
   ],
   "source": [
    "blocks[0].ndata[dgl.NID] # detect ID of the source node\n"
   ]
  },
  {
   "cell_type": "code",
   "execution_count": 20,
   "metadata": {},
   "outputs": [
    {
     "data": {
      "text/plain": [
       "tensor([0, 1, 2, 3, 4, 5], device='cuda:0', dtype=torch.int32)"
      ]
     },
     "execution_count": 20,
     "metadata": {},
     "output_type": "execute_result"
    }
   ],
   "source": [
    "blockEdgeId = blocks[0].edata[dgl.EID] # detect ID of the source node\n",
    "blockEdgeId"
   ]
  }
 ],
 "metadata": {
  "kernelspec": {
   "display_name": "dgl_v09",
   "language": "python",
   "name": "python3"
  },
  "language_info": {
   "codemirror_mode": {
    "name": "ipython",
    "version": 3
   },
   "file_extension": ".py",
   "mimetype": "text/x-python",
   "name": "python",
   "nbconvert_exporter": "python",
   "pygments_lexer": "ipython3",
   "version": "3.8.17"
  }
 },
 "nbformat": 4,
 "nbformat_minor": 2
}

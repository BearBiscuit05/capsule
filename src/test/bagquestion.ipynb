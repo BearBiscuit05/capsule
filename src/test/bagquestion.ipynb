{
 "cells": [
  {
   "cell_type": "code",
   "execution_count": 3,
   "metadata": {},
   "outputs": [],
   "source": [
    "def knapsack(weights, values, capacity):\n",
    "    n = len(weights)\n",
    "    dp = [[0] * (capacity + 1) for _ in range(n + 1)]\n",
    "    selected_items = [[False] * (capacity + 1) for _ in range(n + 1)]\n",
    "\n",
    "    for i in range(1, n + 1):\n",
    "        for w in range(capacity + 1):\n",
    "            without_i = dp[i - 1][w]\n",
    "\n",
    "            with_i = 0\n",
    "            if weights[i - 1] <= w:\n",
    "                with_i = values[i - 1] + dp[i - 1][w - weights[i - 1]]\n",
    "\n",
    "            # 选择最大值，并记录是否选择了当前物品\n",
    "            if with_i >= without_i:\n",
    "                dp[i][w] = with_i\n",
    "                selected_items[i][w] = True\n",
    "            else:\n",
    "                dp[i][w] = without_i\n",
    "                selected_items[i][w] = False\n",
    "\n",
    "    # 回溯找出选择的物品\n",
    "    chosen_items = []\n",
    "    i, w = n, capacity\n",
    "    while i > 0 and w > 0:\n",
    "        if selected_items[i][w]:\n",
    "            chosen_items.append(i - 1)\n",
    "            w -= weights[i - 1]\n",
    "        i -= 1\n",
    "\n",
    "    return dp[n][capacity], chosen_items"
   ]
  },
  {
   "cell_type": "code",
   "execution_count": 4,
   "metadata": {},
   "outputs": [
    {
     "name": "stdout",
     "output_type": "stream",
     "text": [
      "Maximum value: 37\n",
      "Chosen items: [3, 1, 0]\n"
     ]
    }
   ],
   "source": [
    "\n",
    "\n",
    "# 示例\n",
    "weights = [2, 1, 3, 2]\n",
    "values = [12, 10, 20, 15]\n",
    "capacity = 5\n",
    "\n",
    "max_value, chosen_items = knapsack(weights, values, capacity)\n",
    "\n",
    "print(\"Maximum value:\", max_value)\n",
    "print(\"Chosen items:\", chosen_items)\n"
   ]
  }
 ],
 "metadata": {
  "kernelspec": {
   "display_name": "dgl_v09",
   "language": "python",
   "name": "python3"
  },
  "language_info": {
   "codemirror_mode": {
    "name": "ipython",
    "version": 3
   },
   "file_extension": ".py",
   "mimetype": "text/x-python",
   "name": "python",
   "nbconvert_exporter": "python",
   "pygments_lexer": "ipython3",
   "version": "3.8.17"
  }
 },
 "nbformat": 4,
 "nbformat_minor": 2
}

{
 "cells": [
  {
   "cell_type": "code",
   "execution_count": 1,
   "metadata": {},
   "outputs": [
    {
     "name": "stderr",
     "output_type": "stream",
     "text": [
      "/home/bear/miniconda3/envs/dgl_v09/lib/python3.8/site-packages/tqdm/auto.py:21: TqdmWarning: IProgress not found. Please update jupyter and ipywidgets. See https://ipywidgets.readthedocs.io/en/stable/user_install.html\n",
      "  from .autonotebook import tqdm as notebook_tqdm\n"
     ]
    }
   ],
   "source": [
    "import numpy as np\n",
    "import torch\n",
    "import dgl\n",
    "import time"
   ]
  },
  {
   "cell_type": "code",
   "execution_count": 2,
   "metadata": {},
   "outputs": [],
   "source": [
    "# 首先每个训练点有一个自己的标签(idx)\n",
    "# 随后对标签进行传递 dst <-> src\n",
    "# 在经过n轮之后,每个点都有了一个自己的最终标签\n",
    "# 之后对聚类结果进行合并\n",
    "\n",
    "graph = torch.as_tensor(np.fromfile(\"/raid/bear/data/raw/papers100M/graph1.bin\",dtype=np.int32))\n",
    "trainids = torch.as_tensor(np.fromfile(\"/raid/bear/data/raw/papers100M/trainIds.bin\",dtype=np.int64))\n",
    "src = graph[::2]\n",
    "dst = graph[1::2]\n",
    "src = src.cuda()\n",
    "dst = dst.cuda()\n",
    "\n",
    "nodeNUM = 111059956\n",
    "nodeLabel = torch.zeros(nodeNUM).to(torch.int32) -1\n",
    "nodeLabel[trainids] = trainids.to(torch.int32)\n",
    "nodeLabel = nodeLabel.cuda()"
   ]
  },
  {
   "cell_type": "code",
   "execution_count": 3,
   "metadata": {},
   "outputs": [],
   "source": [
    "hopNUM = 2\n",
    "for _ in range(hopNUM):\n",
    "    dgl.lpGraph(src,dst,nodeLabel)"
   ]
  },
  {
   "cell_type": "code",
   "execution_count": 4,
   "metadata": {},
   "outputs": [
    {
     "data": {
      "text/plain": [
       "46"
      ]
     },
     "execution_count": 4,
     "metadata": {},
     "output_type": "execute_result"
    }
   ],
   "source": [
    "# 清空存储\n",
    "src = src.cpu()\n",
    "dst = dst.cpu()\n",
    "nodeLabel = nodeLabel.cpu()\n",
    "import gc\n",
    "torch.cuda.empty_cache()\n",
    "gc.collect()"
   ]
  },
  {
   "cell_type": "code",
   "execution_count": 9,
   "metadata": {},
   "outputs": [],
   "source": [
    "# 提取训练集标签\n",
    "trainLabel = nodeLabel[trainids.to(torch.int64)]\n",
    "\n",
    "# 按照标签进行聚类(数量不定)\n",
    "labelCluster = torch.bincount(trainLabel)\n",
    "sortLabelsNUM,labelIdx = torch.sort(labelCluster,descending=True)"
   ]
  },
  {
   "cell_type": "code",
   "execution_count": 13,
   "metadata": {},
   "outputs": [],
   "source": [
    "bound = len(torch.nonzero(sortLabelsNUM > 0).reshape(-1))\n",
    "\n",
    "sortLabelsNUM = sortLabelsNUM[:bound]\n",
    "labelIdx = labelIdx[:bound]"
   ]
  },
  {
   "cell_type": "code",
   "execution_count": 5,
   "metadata": {},
   "outputs": [],
   "source": [
    "def findMinPart(partInfo):\n",
    "    min_value, min_index = torch.min(partInfo, dim=0)\n",
    "    return min_value, min_index\n",
    "\n",
    "def changeInfo(partInfo,changeIdx,changeValue,acc=True):\n",
    "    if acc:\n",
    "        partInfo[changeIdx] += changeValue\n",
    "    else:\n",
    "        partInfo[changeIdx] = changeValue"
   ]
  },
  {
   "cell_type": "code",
   "execution_count": 15,
   "metadata": {},
   "outputs": [],
   "source": [
    "# 将小聚类进行合并，生成为具体的聚类数目\n",
    "partNUM = 8\n",
    "partInfo = torch.zeros(partNUM,dtype=torch.int64)\n",
    "label2part = torch.zeros(torch.max(labelIdx).item()+1,dtype=torch.int64)\n",
    "for index,labelId in enumerate(labelIdx):\n",
    "    value,partid = findMinPart(partInfo)    # 查询当前最小\n",
    "    label2part[labelId] = partid            # 放入\n",
    "    changeInfo(partInfo,partid,sortLabelsNUM[index])    # 修改当前存储表\n",
    "\n",
    "# 此时所有的小聚类均放入大聚类中，id: 0 - (partNUM-1)\n",
    "trainids\n",
    "trainIdsInPart = label2part[trainLabel.to(torch.int64)] # 最终获得每个训练点在哪个分区中\n",
    "\n",
    "# 最后在训练时对nodeInfo[trainids] = trainIdsInPart"
   ]
  },
  {
   "cell_type": "code",
   "execution_count": 17,
   "metadata": {},
   "outputs": [
    {
     "data": {
      "text/plain": [
       "tensor(7)"
      ]
     },
     "execution_count": 17,
     "metadata": {},
     "output_type": "execute_result"
    }
   ],
   "source": [
    "torch.max(trainIdsInPart)"
   ]
  },
  {
   "cell_type": "code",
   "execution_count": 18,
   "metadata": {},
   "outputs": [
    {
     "data": {
      "text/plain": [
       "torch.Size([1207179])"
      ]
     },
     "execution_count": 18,
     "metadata": {},
     "output_type": "execute_result"
    }
   ],
   "source": [
    "trainIdsInPart.shape"
   ]
  },
  {
   "cell_type": "code",
   "execution_count": 22,
   "metadata": {},
   "outputs": [],
   "source": [
    "trainIdsInPart.cpu().numpy().tofile(\"partinfo.bin\")"
   ]
  },
  {
   "cell_type": "code",
   "execution_count": 19,
   "metadata": {},
   "outputs": [],
   "source": [
    "ans = torch.bincount(trainIdsInPart)"
   ]
  },
  {
   "cell_type": "code",
   "execution_count": 23,
   "metadata": {},
   "outputs": [
    {
     "data": {
      "text/plain": [
       "tensor([0, 6, 4,  ..., 3, 0, 2])"
      ]
     },
     "execution_count": 23,
     "metadata": {},
     "output_type": "execute_result"
    }
   ],
   "source": [
    "trainIdsInPart"
   ]
  }
 ],
 "metadata": {
  "kernelspec": {
   "display_name": "dgl_v09",
   "language": "python",
   "name": "python3"
  },
  "language_info": {
   "codemirror_mode": {
    "name": "ipython",
    "version": 3
   },
   "file_extension": ".py",
   "mimetype": "text/x-python",
   "name": "python",
   "nbconvert_exporter": "python",
   "pygments_lexer": "ipython3",
   "version": "3.8.17"
  }
 },
 "nbformat": 4,
 "nbformat_minor": 2
}

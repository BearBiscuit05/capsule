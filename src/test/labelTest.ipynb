{
 "cells": [
  {
   "cell_type": "code",
   "execution_count": 1,
   "metadata": {},
   "outputs": [
    {
     "name": "stderr",
     "output_type": "stream",
     "text": [
      "/home/bear/miniconda3/envs/dgl_v09/lib/python3.8/site-packages/tqdm/auto.py:21: TqdmWarning: IProgress not found. Please update jupyter and ipywidgets. See https://ipywidgets.readthedocs.io/en/stable/user_install.html\n",
      "  from .autonotebook import tqdm as notebook_tqdm\n"
     ]
    }
   ],
   "source": [
    "import numpy as np\n",
    "import torch\n",
    "import dgl\n",
    "import time"
   ]
  },
  {
   "cell_type": "code",
   "execution_count": 2,
   "metadata": {},
   "outputs": [],
   "source": [
    "# 首先每个训练点有一个自己的标签(idx)\n",
    "# 随后对标签进行传递 dst <-> src\n",
    "# 在经过n轮之后,每个点都有了一个自己的最终标签\n",
    "# 之后对聚类结果进行合并\n",
    "\n",
    "graph = torch.as_tensor(np.fromfile(\"/raid/bear/data/raw/papers100M/graph1.bin\",dtype=np.int32))\n",
    "trainids = torch.as_tensor(np.fromfile(\"/raid/bear/data/raw/papers100M/trainIds.bin\",dtype=np.int64))\n",
    "src = graph[::2]\n",
    "dst = graph[1::2]"
   ]
  },
  {
   "cell_type": "code",
   "execution_count": 3,
   "metadata": {},
   "outputs": [],
   "source": [
    "src = src.cuda()\n",
    "dst = dst.cuda()"
   ]
  },
  {
   "cell_type": "code",
   "execution_count": 4,
   "metadata": {},
   "outputs": [],
   "source": [
    "nodeNUM = 111059956\n",
    "nodeLabel = torch.zeros(nodeNUM).to(torch.int32) -1\n",
    "nodeLabel[trainids] = trainids.to(torch.int32)\n",
    "nodeLabel = nodeLabel.cuda()"
   ]
  },
  {
   "cell_type": "code",
   "execution_count": 7,
   "metadata": {},
   "outputs": [
    {
     "name": "stdout",
     "output_type": "stream",
     "text": [
      "nodeLabel : tensor([    -1,     -1, 216539,  ...,  17929,     -1,     -1], device='cuda:0',\n",
      "       dtype=torch.int32)\n",
      "nodeLabel : tensor([ 2205,  9067, 16362,  ...,  1384,    -1,    -1], device='cuda:0',\n",
      "       dtype=torch.int32)\n"
     ]
    }
   ],
   "source": [
    "print(\"nodeLabel :\",nodeLabel)\n",
    "dgl.lpGraph(src,dst,nodeLabel)\n",
    "print(\"nodeLabel :\",nodeLabel)"
   ]
  },
  {
   "cell_type": "code",
   "execution_count": 8,
   "metadata": {},
   "outputs": [
    {
     "data": {
      "text/plain": [
       "55"
      ]
     },
     "execution_count": 8,
     "metadata": {},
     "output_type": "execute_result"
    }
   ],
   "source": [
    "src = src.cpu()\n",
    "dst = dst.cpu()\n",
    "nodeLabel = nodeLabel.cpu()\n",
    "import gc\n",
    "torch.cuda.empty_cache()\n",
    "gc.collect()"
   ]
  },
  {
   "cell_type": "code",
   "execution_count": 9,
   "metadata": {},
   "outputs": [],
   "source": [
    "# idx = torch.nonzero(nodeLabel >= 0).reshape(-1)\n",
    "value = nodeLabel[trainids.to(torch.int64)]"
   ]
  },
  {
   "cell_type": "code",
   "execution_count": 17,
   "metadata": {},
   "outputs": [
    {
     "data": {
      "text/plain": [
       "tensor(687290)"
      ]
     },
     "execution_count": 17,
     "metadata": {},
     "output_type": "execute_result"
    }
   ],
   "source": [
    "binAns = torch.bincount(value)\n",
    "torch.max(binAns)"
   ]
  },
  {
   "cell_type": "code",
   "execution_count": 18,
   "metadata": {},
   "outputs": [],
   "source": [
    "s_binAns,_ = torch.sort(binAns,descending=True)"
   ]
  },
  {
   "cell_type": "code",
   "execution_count": 20,
   "metadata": {},
   "outputs": [
    {
     "data": {
      "text/plain": [
       "tensor([687290, 172884, 151759,  49527,  48329,  25771,   8999,   6149,   5545,\n",
       "          4519,   3395,   3260,   3132,   2971,   2755,   2678,   2361,   2266,\n",
       "          1972,   1824,   1733,   1442,   1391,   1320,   1075,   1072,    935,\n",
       "           777,    735,    601,    594,    566,    534,    379,    337,    327,\n",
       "           324,    306,    286,    278])"
      ]
     },
     "execution_count": 20,
     "metadata": {},
     "output_type": "execute_result"
    }
   ],
   "source": [
    "s_binAns[:40]"
   ]
  },
  {
   "cell_type": "code",
   "execution_count": 15,
   "metadata": {},
   "outputs": [],
   "source": [
    "out = torch.nonzero(s_binAns > 30).reshape(-1)"
   ]
  },
  {
   "cell_type": "code",
   "execution_count": 16,
   "metadata": {},
   "outputs": [
    {
     "data": {
      "text/plain": [
       "torch.Size([68])"
      ]
     },
     "execution_count": 16,
     "metadata": {},
     "output_type": "execute_result"
    }
   ],
   "source": [
    "out.shape"
   ]
  }
 ],
 "metadata": {
  "kernelspec": {
   "display_name": "dgl_v09",
   "language": "python",
   "name": "python3"
  },
  "language_info": {
   "codemirror_mode": {
    "name": "ipython",
    "version": 3
   },
   "file_extension": ".py",
   "mimetype": "text/x-python",
   "name": "python",
   "nbconvert_exporter": "python",
   "pygments_lexer": "ipython3",
   "version": "3.8.17"
  }
 },
 "nbformat": 4,
 "nbformat_minor": 2
}

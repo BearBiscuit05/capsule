{
 "cells": [
  {
   "cell_type": "code",
   "execution_count": null,
   "metadata": {},
   "outputs": [],
   "source": [
    "import numpy as np\n",
    "import torch\n",
    "import dgl\n",
    "import time"
   ]
  },
  {
   "cell_type": "code",
   "execution_count": null,
   "metadata": {},
   "outputs": [],
   "source": [
    "# 首先每个训练点有一个自己的标签(idx)\n",
    "# 随后对标签进行传递 dst <-> src\n",
    "# 在经过n轮之后,每个点都有了一个自己的最终标签\n",
    "# 之后对聚类结果进行合并\n",
    "# "
   ]
  }
 ],
 "metadata": {
  "language_info": {
   "name": "python"
  }
 },
 "nbformat": 4,
 "nbformat_minor": 2
}

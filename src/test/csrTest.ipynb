{
 "cells": [
  {
   "cell_type": "code",
   "execution_count": 1,
   "metadata": {},
   "outputs": [
    {
     "name": "stderr",
     "output_type": "stream",
     "text": [
      "/home/bear/miniconda3/envs/dgl_v09/lib/python3.8/site-packages/tqdm/auto.py:21: TqdmWarning: IProgress not found. Please update jupyter and ipywidgets. See https://ipywidgets.readthedocs.io/en/stable/user_install.html\n",
      "  from .autonotebook import tqdm as notebook_tqdm\n"
     ]
    }
   ],
   "source": [
    "import numpy as np\n",
    "import torch\n",
    "import dgl\n",
    "import time\n"
   ]
  },
  {
   "cell_type": "code",
   "execution_count": 43,
   "metadata": {},
   "outputs": [],
   "source": [
    "def loss_csr(raw_ptr,raw_indice,lossNode,randomLoss=0.5,degreeCut=None,CutRatio=0.5):\n",
    "    raw_ptr = raw_ptr.cuda()\n",
    "    nodeNUM = raw_ptr.shape[0] - 1\n",
    "    ptr_diff = torch.diff(raw_ptr)  # 0.01s\n",
    "\n",
    "    # 0.2s\n",
    "    # 裁剪点\n",
    "    # length = lossNode.size(0)\n",
    "    # indices_permuted = torch.randperm(length)\n",
    "    # selected_indices = indices_permuted[:int(length * randomLoss)]\n",
    "    # lossNode = lossNode[selected_indices]\n",
    "    mask = torch.ones(nodeNUM, dtype=torch.bool).cuda()\n",
    "    mask[lossNode.to(torch.int64)] = False\n",
    "    ptr_diff[lossNode.to(torch.int64)] = 0\n",
    "    \n",
    "    # 裁剪边\n",
    "    if degreeCut != None:\n",
    "        condition = ptr_diff >= degreeCut\n",
    "        ptr_diff[condition] = (ptr_diff[condition] * CutRatio).to(torch.int32) \n",
    "\n",
    "    allTime = time.time()\n",
    "    new_ptr = torch.cat((torch.zeros(1).to(torch.int32).to(ptr_diff.device),torch.cumsum(ptr_diff,dim = 0).to(torch.int32)))\n",
    "    id2featMap = mask.cumsum(dim=0).to(torch.int32)\n",
    "    id2featMap -= 1\n",
    "    id2featMap[lossNode.to(torch.int64)] = -1\n",
    "    ptr_diff,mask = None,None\n",
    "    print(f\"ptr_diff using time :{time.time()-allTime:.3f}s\")\n",
    "    # indice\n",
    "    \n",
    "    allTime = time.time()\n",
    "    new_indice = torch.zeros(new_ptr[-1].item(),dtype=torch.int32)\n",
    "    print(f\"clone time :{time.time()-allTime:.3f}s\")\n",
    "    allTime = time.time()\n",
    "    raw_indice,new_indice = raw_indice.cuda(),new_indice.cuda()\n",
    "    dgl.loss_csr(raw_ptr,new_ptr,raw_indice,new_indice)\n",
    "    raw_ptr,raw_indice = None,None\n",
    "    print(f\"loss_csr func using time :{time.time()-allTime:.3f}s\")\n",
    "    return new_ptr,new_indice,id2featMap"
   ]
  },
  {
   "cell_type": "code",
   "execution_count": 33,
   "metadata": {},
   "outputs": [],
   "source": [
    "ptr = torch.as_tensor(np.fromfile(\"/home/bear/workspace/single-gnn/data/partition/FR/part0/indptr.bin\",dtype=np.int32))\n",
    "indice = torch.as_tensor(np.fromfile(\"/home/bear/workspace/single-gnn/data/partition/FR/part0/indices.bin\",dtype=np.int32))\n",
    "sortIds = torch.as_tensor(np.fromfile(\"/home/bear/workspace/single-gnn/data/partition/FR/part0/sortIds.bin\",dtype=np.int32))\n",
    "trainIds = torch.as_tensor(np.fromfile(\"/home/bear/workspace/single-gnn/data/partition/FR/part0/trainIds.bin\",dtype=np.int64))\n",
    "saveNode = sortIds[:int(len(sortIds) * 0.8)]\n",
    "lossNode = sortIds[int(len(sortIds) * 0.8):]"
   ]
  },
  {
   "cell_type": "code",
   "execution_count": 45,
   "metadata": {},
   "outputs": [
    {
     "name": "stdout",
     "output_type": "stream",
     "text": [
      "ptr_diff using time :0.001s\n",
      "clone time :0.118s\n",
      "loss_csr func using time :1.147s\n",
      "loss_csr using time :1.277s\n"
     ]
    }
   ],
   "source": [
    "allTime = time.time()\n",
    "ptr,indice,lossNode = ptr.cuda(),indice.cpu(),lossNode.cuda()\n",
    "new_ptr,new_indice,id2featMap = loss_csr(ptr,indice,lossNode,randomLoss=0.5,degreeCut=40,CutRatio=0.5)\n",
    "print(f\"loss_csr using time :{time.time()-allTime:.3f}s\")"
   ]
  },
  {
   "cell_type": "code",
   "execution_count": 44,
   "metadata": {},
   "outputs": [],
   "source": [
    "def streamLossGraph(raw_ptr,raw_indice,lossNode,sliceNUM=1,randomLoss=0.5,degreeCut=None,CutRatio=0.5):\n",
    "    # ptr始终位于GPU中，indice同样位于GPU中，raw流式传入\n",
    "    raw_ptr = raw_ptr.cuda()\n",
    "    raw_indice = raw_indice.cpu()\n",
    "    nodeNUM = raw_ptr.shape[0] - 1\n",
    "    ptr_diff = torch.diff(raw_ptr)  # 0.01s\n",
    "\n",
    "    # 裁剪点 0.2s\n",
    "    # length = lossNode.size(0)\n",
    "    # selected_indices = torch.randperm(length)[:int(length * randomLoss)]\n",
    "    # lossNode = lossNode[selected_indices]\n",
    "    mask = torch.ones(nodeNUM, dtype=torch.bool).cuda()\n",
    "    mask[lossNode.to(torch.int64)] = False\n",
    "    ptr_diff[lossNode.to(torch.int64)] = 0\n",
    "    \n",
    "    # 裁剪边\n",
    "    if degreeCut != None:\n",
    "        condition = ptr_diff >= degreeCut\n",
    "        ptr_diff[condition] = (ptr_diff[condition] * CutRatio).to(torch.int32) \n",
    "\n",
    "    allTime = time.time()\n",
    "    new_ptr = torch.cat((torch.zeros(1).to(torch.int32).to(ptr_diff.device),torch.cumsum(ptr_diff,dim = 0).to(torch.int32)))\n",
    "    id2featMap = mask.cumsum(dim=0).to(torch.int32)\n",
    "    id2featMap -= 1\n",
    "    id2featMap[lossNode.to(torch.int64)] = -1\n",
    "    ptr_diff,mask = None,None\n",
    "    print(f\"ptr_diff using time :{time.time()-allTime:.3f}s\")\n",
    "    # indice\n",
    "\n",
    "    blockSize = (nodeNUM - 1) // sliceNUM + 1\n",
    "    bound = []\n",
    "    lastIdx = 0\n",
    "    for i in range(sliceNUM):\n",
    "        nextSlice = min((i+1)*blockSize,nodeNUM)\n",
    "        bound.append([lastIdx,nextSlice])\n",
    "        lastIdx = nextSlice\n",
    "\n",
    "    new_indice = torch.zeros(new_ptr[-1].item()-1,dtype=torch.int32,device=\"cuda:0\")\n",
    "    allTime = time.time()\n",
    "    for left,right in bound:\n",
    "        raw_off = raw_ptr[left:right+1]-raw_ptr[left].item()\n",
    "        new_off = new_ptr[left:right+1]-new_ptr[left].item()\n",
    "        rawIndiceOff = raw_indice[raw_ptr[left].item():raw_ptr[right].item()].cuda()\n",
    "        newIndiceOff = new_indice[new_ptr[left].item():new_ptr[right].item()]\n",
    "        dgl.loss_csr(raw_off,new_off,rawIndiceOff,newIndiceOff)\n",
    "    print(f\"loss_csr func using time :{time.time()-allTime:.3f}s\")\n",
    "    raw_ptr,raw_indice = None,None\n",
    "    return new_ptr,new_indice,id2featMap"
   ]
  },
  {
   "cell_type": "code",
   "execution_count": 46,
   "metadata": {},
   "outputs": [
    {
     "name": "stdout",
     "output_type": "stream",
     "text": [
      "ptr_diff using time :0.001s\n",
      "clone time :0.115s\n",
      "loss_csr func using time :0.970s\n",
      "loss_csr using time :1.094s\n"
     ]
    }
   ],
   "source": [
    "allTime = time.time()\n",
    "ptr,indice,lossNode = ptr.cuda(),indice.cpu(),lossNode.cuda()\n",
    "s_new_ptr,s_new_indice,s_id2featMap = loss_csr(ptr,indice,lossNode,randomLoss=0.5,degreeCut=40,CutRatio=0.5)\n",
    "print(f\"loss_csr using time :{time.time()-allTime:.3f}s\")"
   ]
  },
  {
   "cell_type": "code",
   "execution_count": null,
   "metadata": {},
   "outputs": [],
   "source": [
    "torch.equal(new_indice,s_new_indice)"
   ]
  }
 ],
 "metadata": {
  "kernelspec": {
   "display_name": "dgl_v09",
   "language": "python",
   "name": "python3"
  },
  "language_info": {
   "codemirror_mode": {
    "name": "ipython",
    "version": 3
   },
   "file_extension": ".py",
   "mimetype": "text/x-python",
   "name": "python",
   "nbconvert_exporter": "python",
   "pygments_lexer": "ipython3",
   "version": "3.8.17"
  }
 },
 "nbformat": 4,
 "nbformat_minor": 2
}

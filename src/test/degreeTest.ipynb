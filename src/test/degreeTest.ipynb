{
 "cells": [
  {
   "cell_type": "code",
   "execution_count": null,
   "metadata": {},
   "outputs": [],
   "source": [
    "import numpy as np\n",
    "import torch\n",
    "import dgl\n",
    "import time"
   ]
  },
  {
   "cell_type": "code",
   "execution_count": 5,
   "metadata": {},
   "outputs": [],
   "source": [
    "RAWPATH = \"/raid/bear/data/raw/papers100M\"\n",
    "nodeNUM = 111059956\n",
    "\n",
    "GRAPHPATH = RAWPATH + \"/graph.bin\"\n",
    "TRAINPATH = RAWPATH + \"/trainIds.bin\"\n",
    "\n",
    "# for i in range(partNUM):\n",
    "#     PATH = savePath + f\"/part{i}\" \n",
    "#     checkFilePath(PATH)\n",
    "\n",
    "graph = torch.from_numpy(np.fromfile(GRAPHPATH,dtype=np.int32))\n",
    "src,dst = graph[::2],graph[1::2]\n",
    "trainIds = torch.from_numpy(np.fromfile(TRAINPATH,dtype=np.int64))\n",
    "edgeTable = torch.zeros_like(src).to(torch.int32)\n",
    "template_array = torch.zeros(nodeNUM,dtype=torch.int32,device=\"cuda\")\n"
   ]
  },
  {
   "cell_type": "code",
   "execution_count": null,
   "metadata": {},
   "outputs": [],
   "source": [
    "MAXEDGE = 1000000000\n",
    "# Streaming edge data\n",
    "batch_size = len(src) // MAXEDGE + 1\n",
    "src_batches = torch.chunk(src, batch_size, dim=0)\n",
    "dst_batches = torch.chunk(dst, batch_size, dim=0)\n",
    "batch = [src_batches, dst_batches]\n",
    "\n",
    "\n",
    "inNodeTable, outNodeTable = template_array.clone(), template_array.clone()\n",
    "startTime = time.time()\n",
    "for src_batch,dst_batch in zip(*batch):\n",
    "    src_batch,dst_batch = src_batch.cuda(),dst_batch.cuda()\n",
    "    inNodeTable,outNodeTable = dgl.sumDegree(inNodeTable,outNodeTable,src_batch,dst_batch)\n",
    "src_batch,dst_batch = None,None\n",
    "print(f\"one loop using time :{time.time()-startTime:.3f}\")\n",
    "outNodeTable = outNodeTable.cpu() # innodeTable still in GPU for next use\n",
    "src_batch,dst_batch = None,None"
   ]
  },
  {
   "cell_type": "code",
   "execution_count": null,
   "metadata": {},
   "outputs": [],
   "source": [
    "outNodeTable"
   ]
  }
 ],
 "metadata": {
  "kernelspec": {
   "display_name": "dgl_v09",
   "language": "python",
   "name": "python3"
  },
  "language_info": {
   "codemirror_mode": {
    "name": "ipython",
    "version": 3
   },
   "file_extension": ".py",
   "mimetype": "text/x-python",
   "name": "python",
   "nbconvert_exporter": "python",
   "pygments_lexer": "ipython3",
   "version": "3.8.17"
  }
 },
 "nbformat": 4,
 "nbformat_minor": 2
}

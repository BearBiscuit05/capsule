{
 "cells": [
  {
   "cell_type": "markdown",
   "metadata": {},
   "source": [
    "Slice feature extraction test"
   ]
  },
  {
   "cell_type": "code",
   "execution_count": null,
   "metadata": {},
   "outputs": [],
   "source": [
    "import numpy as np\n",
    "import torch\n",
    "import dgl\n",
    "import time\n"
   ]
  },
  {
   "cell_type": "code",
   "execution_count": null,
   "metadata": {},
   "outputs": [],
   "source": [
    "rawFeat = torch.as_tensor(np.fromfile(\"/raid/bear/data/raw/ogbn_products/feat.bin\",dtype=np.float32))"
   ]
  },
  {
   "cell_type": "code",
   "execution_count": null,
   "metadata": {},
   "outputs": [],
   "source": [
    "def sliceIds(Ids,sliceTable):\n",
    "    # Cut the tensor into the range specified by sliceTable\n",
    "    beginIndex = 0\n",
    "    ans = []\n",
    "    for tar in sliceTable[1:]:\n",
    "        position = torch.searchsorted(Ids, tar)\n",
    "        slice = Ids[beginIndex:position]\n",
    "        ans.append(slice)\n",
    "        beginIndex = position\n",
    "    return ans"
   ]
  },
  {
   "cell_type": "code",
   "execution_count": null,
   "metadata": {},
   "outputs": [],
   "source": [
    "Ids = torch.tensor([1, 3, 5, 7, 9, 11, 13, 15, 17, 19, 21, 23])\n",
    "sliceNUM = 4\n",
    "nodeNUM = 24\n",
    "slice = (nodeNUM - 1) // sliceNUM + 1\n",
    "boundList = [0]\n",
    "start = slice\n",
    "for i in range(sliceNUM):\n",
    "    boundList.append(start)\n",
    "    start += slice\n",
    "boundList[-1] = nodeNUM\n",
    "print(boundList)\n",
    "result = sliceIds(Ids, boundList)\n",
    "print(result)\n"
   ]
  },
  {
   "cell_type": "code",
   "execution_count": null,
   "metadata": {},
   "outputs": [],
   "source": [
    "train = np.fromfile(\"/home/bear/workspace/single-gnn/data/partition/PD/trainPath.bin\",dtype=np.int64)\n",
    "train"
   ]
  }
 ],
 "metadata": {
  "kernelspec": {
   "display_name": "dgl_v09",
   "language": "python",
   "name": "python3"
  },
  "language_info": {
   "codemirror_mode": {
    "name": "ipython",
    "version": 3
   },
   "file_extension": ".py",
   "mimetype": "text/x-python",
   "name": "python",
   "nbconvert_exporter": "python",
   "pygments_lexer": "ipython3",
   "version": "3.8.17"
  }
 },
 "nbformat": 4,
 "nbformat_minor": 2
}

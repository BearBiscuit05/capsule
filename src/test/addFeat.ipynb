{
 "cells": [
  {
   "cell_type": "code",
   "execution_count": 11,
   "metadata": {},
   "outputs": [],
   "source": [
    "import numpy as np\n",
    "import torch\n",
    "import dgl\n",
    "import time\n"
   ]
  },
  {
   "cell_type": "code",
   "execution_count": 3,
   "metadata": {},
   "outputs": [
    {
     "ename": "TypeError",
     "evalue": "as_tensor(): argument 'dtype' must be torch.dtype, not type",
     "output_type": "error",
     "traceback": [
      "\u001b[0;31m---------------------------------------------------------------------------\u001b[0m",
      "\u001b[0;31mTypeError\u001b[0m                                 Traceback (most recent call last)",
      "\u001b[1;32m/home/bear/workspace/single-gnn/src/test/addFeat.ipynb 单元格 2\u001b[0m line \u001b[0;36m1\n\u001b[0;32m----> <a href='vscode-notebook-cell://ssh-remote%2B7b22686f73744e616d65223a2256313030227d/home/bear/workspace/single-gnn/src/test/addFeat.ipynb#W1sdnNjb2RlLXJlbW90ZQ%3D%3D?line=0'>1</a>\u001b[0m rawFeat \u001b[39m=\u001b[39m torch\u001b[39m.\u001b[39;49mas_tensor(np\u001b[39m.\u001b[39;49mfromfile(\u001b[39m\"\u001b[39;49m\u001b[39m/raid/bear/data/raw/ogbn_products/feat.bin\u001b[39;49m\u001b[39m\"\u001b[39;49m),dtype\u001b[39m=\u001b[39;49mnp\u001b[39m.\u001b[39;49mfloat32)\n",
      "\u001b[0;31mTypeError\u001b[0m: as_tensor(): argument 'dtype' must be torch.dtype, not type"
     ]
    }
   ],
   "source": [
    "rawFeat = torch.as_tensor(np.fromfile(\"/raid/bear/data/raw/ogbn_products/feat.bin\",dtype=np.float32))"
   ]
  },
  {
   "cell_type": "code",
   "execution_count": 5,
   "metadata": {},
   "outputs": [],
   "source": [
    "def sliceIds(Ids,sliceTable):\n",
    "    # 对tensor切割成sliceTable指定的范围\n",
    "    beginIndex = 0\n",
    "    ans = []\n",
    "    for tar in sliceTable[1:]:\n",
    "        position = torch.searchsorted(Ids, tar)\n",
    "        slice = Ids[beginIndex:position]\n",
    "        ans.append(slice)\n",
    "        beginIndex = position\n",
    "    return ans"
   ]
  },
  {
   "cell_type": "code",
   "execution_count": 10,
   "metadata": {},
   "outputs": [
    {
     "name": "stdout",
     "output_type": "stream",
     "text": [
      "[0, 6, 12, 18, 24]\n",
      "[tensor([1, 3, 5]), tensor([ 7,  9, 11]), tensor([13, 15, 17]), tensor([19, 21, 23])]\n"
     ]
    }
   ],
   "source": [
    "Ids = torch.tensor([1, 3, 5, 7, 9, 11, 13, 15, 17, 19, 21, 23])\n",
    "sliceNUM = 4\n",
    "nodeNUM = 24\n",
    "slice = (nodeNUM - 1) // sliceNUM + 1\n",
    "boundList = [0]\n",
    "start = slice\n",
    "for i in range(sliceNUM):\n",
    "    boundList.append(start)\n",
    "    start += slice\n",
    "boundList[-1] = nodeNUM\n",
    "print(boundList)\n",
    "result = sliceIds(Ids, boundList)\n",
    "# 打印结果\n",
    "print(result)\n"
   ]
  },
  {
   "cell_type": "code",
   "execution_count": 13,
   "metadata": {},
   "outputs": [
    {
     "data": {
      "text/plain": [
       "array([0, 3, 2, 1])"
      ]
     },
     "execution_count": 13,
     "metadata": {},
     "output_type": "execute_result"
    }
   ],
   "source": [
    "train = np.fromfile(\"/home/bear/workspace/single-gnn/data/partition/PD/trainPath.bin\",dtype=np.int64)\n",
    "train"
   ]
  }
 ],
 "metadata": {
  "kernelspec": {
   "display_name": "dgl_v09",
   "language": "python",
   "name": "python3"
  },
  "language_info": {
   "codemirror_mode": {
    "name": "ipython",
    "version": 3
   },
   "file_extension": ".py",
   "mimetype": "text/x-python",
   "name": "python",
   "nbconvert_exporter": "python",
   "pygments_lexer": "ipython3",
   "version": "3.8.17"
  }
 },
 "nbformat": 4,
 "nbformat_minor": 2
}

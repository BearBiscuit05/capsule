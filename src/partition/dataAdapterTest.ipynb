{
 "cells": [
  {
   "cell_type": "code",
   "execution_count": 6,
   "metadata": {},
   "outputs": [],
   "source": [
    "import torch\n",
    "import dgl\n",
    "import numpy as np\n",
    "import mmap\n",
    "import torch\n"
   ]
  },
  {
   "cell_type": "code",
   "execution_count": 9,
   "metadata": {},
   "outputs": [
    {
     "data": {
      "text/plain": [
       "tensor([ 0,  4,  6, 10, 12, 15, 16, 18, 19])"
      ]
     },
     "execution_count": 9,
     "metadata": {},
     "output_type": "execute_result"
    }
   ],
   "source": [
    "\n",
    "tensor = torch.tensor([0, 0, 0, 0, 1, 1, 2, 2, 2, 2, 3, 3, 4,4,4,5,6,6,7], dtype=torch.int)\n",
    "diff = torch.diff(tensor)\n",
    "ranges = torch.nonzero(diff) + 1\n",
    "ranges = torch.cat([torch.tensor([0]), ranges.squeeze(), torch.tensor([len(tensor)])])\n",
    "ranges\n",
    "# print(ranges.numpy())\n",
    "\n"
   ]
  },
  {
   "cell_type": "code",
   "execution_count": 10,
   "metadata": {},
   "outputs": [],
   "source": [
    "filePath=\"/raid/bear/test_part_dataset/part0\"\n",
    "tensor = np.fromfile(filePath+\"/new_nodeId.bin\", dtype=np.int64)"
   ]
  },
  {
   "cell_type": "code",
   "execution_count": 4,
   "metadata": {},
   "outputs": [
    {
     "data": {
      "text/plain": [
       "array([2, 4, 6, 8])"
      ]
     },
     "execution_count": 4,
     "metadata": {},
     "output_type": "execute_result"
    }
   ],
   "source": [
    "import numpy as np\n",
    "\n",
    "# 创建一个示例的一维tensor\n",
    "tensor = np.array([1, 2, 3, 4, 5, 6, 7, 8, 9])\n",
    "\n",
    "# 使用切片对偶数索引位置做加操作，奇数索引位置做减操作\n",
    "result = np.zeros_like(tensor)\n",
    "tensor[::2]\n",
    "tensor[1::2]\n",
    "# result[::2] = tensor[::2] + 1  # 对偶数索引位置做加操作\n",
    "# result[1::2] = tensor[1::2] - 1  # 对奇数索引位置做减操作\n",
    "\n",
    "# # 打印结果\n",
    "# print(result)\n"
   ]
  }
 ],
 "metadata": {
  "kernelspec": {
   "display_name": "graphtest",
   "language": "python",
   "name": "python3"
  },
  "language_info": {
   "codemirror_mode": {
    "name": "ipython",
    "version": 3
   },
   "file_extension": ".py",
   "mimetype": "text/x-python",
   "name": "python",
   "nbconvert_exporter": "python",
   "pygments_lexer": "ipython3",
   "version": "3.8.16"
  },
  "orig_nbformat": 4
 },
 "nbformat": 4,
 "nbformat_minor": 2
}

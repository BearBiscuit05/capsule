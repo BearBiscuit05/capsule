{
 "cells": [
  {
   "cell_type": "code",
   "execution_count": 2,
   "metadata": {},
   "outputs": [],
   "source": [
    "import numpy as np\n",
    "import dgl\n",
    "import pandas as pd"
   ]
  },
  {
   "cell_type": "code",
   "execution_count": 2,
   "metadata": {},
   "outputs": [],
   "source": [
    "GraphPATH = \"/home/bear/workspace/single-gnn/data/raid/papers100M/graph.bin\"\n",
    "GraphData = np.fromfile(GraphPATH,dtype=np.int32)"
   ]
  },
  {
   "cell_type": "code",
   "execution_count": 3,
   "metadata": {},
   "outputs": [],
   "source": [
    "DgreePATH = \"/home/bear/workspace/single-gnn/src/datapart/output.txt.degree\"\n",
    "GraphData = np.fromfile(DgreePATH,dtype=np.int32)"
   ]
  },
  {
   "cell_type": "code",
   "execution_count": 6,
   "metadata": {},
   "outputs": [],
   "source": [
    "BINPATH = \"/home/bear/workspace/single-gnn/src/datapart/output.txt.shuffled.binedgelist\"\n",
    "GraphData = np.fromfile(BINPATH,dtype=np.int32)"
   ]
  },
  {
   "cell_type": "code",
   "execution_count": 8,
   "metadata": {},
   "outputs": [
    {
     "data": {
      "text/plain": [
       "array([ 111059956, 1615685872,          0, ...,   52524335,    6445006,\n",
       "         14536645], dtype=int32)"
      ]
     },
     "execution_count": 8,
     "metadata": {},
     "output_type": "execute_result"
    }
   ],
   "source": [
    "GraphData"
   ]
  },
  {
   "cell_type": "code",
   "execution_count": 4,
   "metadata": {},
   "outputs": [],
   "source": [
    "edge2PartPath = '/home/bear/workspace/single-gnn/src/datapart/PA_out_32.txt'\n",
    "data = np.loadtxt(edge2PartPath, dtype=np.int32)"
   ]
  },
  {
   "cell_type": "code",
   "execution_count": 5,
   "metadata": {},
   "outputs": [
    {
     "data": {
      "text/plain": [
       "array([[ 4075655, 11830904,       11],\n",
       "       [63560655, 45162043,        6],\n",
       "       [64032600,  9226591,       14],\n",
       "       ...,\n",
       "       [12053247,  1684133,       27],\n",
       "       [53875176, 52524335,       30],\n",
       "       [ 6445006, 14536645,       18]], dtype=int32)"
      ]
     },
     "execution_count": 5,
     "metadata": {},
     "output_type": "execute_result"
    }
   ],
   "source": [
    "data"
   ]
  },
  {
   "cell_type": "code",
   "execution_count": 6,
   "metadata": {},
   "outputs": [],
   "source": [
    "src_ids = data[:, 0]\n",
    "dst_ids = data[:, 1]\n",
    "part_ids = data[:, 2]"
   ]
  },
  {
   "cell_type": "code",
   "execution_count": 8,
   "metadata": {},
   "outputs": [],
   "source": [
    "partitions_count = np.max(part_ids) + 1"
   ]
  },
  {
   "cell_type": "code",
   "execution_count": 11,
   "metadata": {},
   "outputs": [],
   "source": [
    "partitions = [list() for _ in range(partitions_count)]"
   ]
  },
  {
   "cell_type": "code",
   "execution_count": 12,
   "metadata": {},
   "outputs": [],
   "source": [
    "for src, dst, partid in zip(src_ids, dst_ids, part_ids):\n",
    "    partitions[partid].append((src, dst))"
   ]
  },
  {
   "cell_type": "code",
   "execution_count": null,
   "metadata": {},
   "outputs": [],
   "source": [
    "for part_id, partition_data in enumerate(partitions):\n",
    "    partition_data = np.array(partition_data, dtype=np.int32)\n",
    "    output_file = f'partition_{part_id}.bin'\n",
    "    partition_data.tofile(output_file)"
   ]
  }
 ],
 "metadata": {
  "kernelspec": {
   "display_name": "graphtest",
   "language": "python",
   "name": "python3"
  },
  "language_info": {
   "codemirror_mode": {
    "name": "ipython",
    "version": 3
   },
   "file_extension": ".py",
   "mimetype": "text/x-python",
   "name": "python",
   "nbconvert_exporter": "python",
   "pygments_lexer": "ipython3",
   "version": "3.8.16"
  }
 },
 "nbformat": 4,
 "nbformat_minor": 2
}

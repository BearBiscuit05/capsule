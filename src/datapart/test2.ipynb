{
 "cells": [
  {
   "cell_type": "code",
   "execution_count": 1,
   "metadata": {},
   "outputs": [],
   "source": [
    "import numpy as np\n",
    "import dgl\n",
    "import torch"
   ]
  },
  {
   "cell_type": "code",
   "execution_count": 2,
   "metadata": {},
   "outputs": [
    {
     "name": "stdout",
     "output_type": "stream",
     "text": [
      "[[-0.434013 -0.353623 -0.390505 ...  0.178895 -0.205813 -0.018228]\n",
      " [-0.255682  0.054082  0.10214  ... -0.138802 -0.266801 -0.233078]\n",
      " [-0.045137  0.202197 -0.010405 ...  0.07838  -0.079276 -0.147964]\n",
      " ...\n",
      " [-0.099699 -0.058251 -0.316907 ...  0.202848 -0.116325 -0.087191]\n",
      " [-0.093779 -0.122275 -0.022505 ...  0.168276  0.007435 -0.247139]\n",
      " [-0.123305  0.189822  0.007853 ...  0.347173 -0.050324 -0.153861]]\n"
     ]
    }
   ],
   "source": [
    "filename = \"/home/bear/workspace/single-gnn/data/raid/papers100M/feats.bin\"\n",
    "fpr = np.memmap(filename, dtype='float32', mode='r', shape=(111059956,128))\n",
    "print(fpr)"
   ]
  }
 ],
 "metadata": {
  "kernelspec": {
   "display_name": "graphtest",
   "language": "python",
   "name": "python3"
  },
  "language_info": {
   "codemirror_mode": {
    "name": "ipython",
    "version": 3
   },
   "file_extension": ".py",
   "mimetype": "text/x-python",
   "name": "python",
   "nbconvert_exporter": "python",
   "pygments_lexer": "ipython3",
   "version": "3.8.16"
  }
 },
 "nbformat": 4,
 "nbformat_minor": 2
}

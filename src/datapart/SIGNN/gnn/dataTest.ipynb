{
 "cells": [
  {
   "cell_type": "code",
   "execution_count": null,
   "metadata": {},
   "outputs": [],
   "source": [
    "import numpy as np\n",
    "import torch"
   ]
  },
  {
   "cell_type": "code",
   "execution_count": null,
   "metadata": {},
   "outputs": [],
   "source": [
    "def bin2tensor(filePath,datatype=np.int64):\n",
    "    tensor = np.fromfile(filePath,dtype=datatype)\n",
    "    return tensor\n",
    "def loadingNode(filePath,rank):\n",
    "    NodeFilePath=filePath+\"part\"+str(rank)+\"/NodeIds.bin\"\n",
    "    NodeList = bin2tensor(NodeFilePath,datatype=np.int64)\n",
    "    return NodeList\n",
    "def loadingHalo(filePath,rank1,rank2):\n",
    "    HaloFilePath=filePath+\"part\"+str(rank1)+\"/halo_\"+str(rank2)+\".bin\"\n",
    "    HaloList = bin2tensor(HaloFilePath,datatype=np.int64)\n",
    "    return HaloList"
   ]
  },
  {
   "cell_type": "code",
   "execution_count": null,
   "metadata": {},
   "outputs": [],
   "source": [
    "GMap=torch.Tensor(200).to(torch.int64)\n",
    "raw_path=\"/raid/bear/test_part_dataset/\"\n",
    "sum = 0\n",
    "## 构建全局map\n",
    "for rank in range(4):\n",
    "    nodeids=loadingNode(raw_path,rank)\n",
    "    nodeNUM = len(nodeids)\n",
    "    newIndex = torch.arange(nodeNUM) + sum\n",
    "    sum += nodeNUM\n",
    "    GMap[nodeids]=newIndex\n"
   ]
  },
  {
   "cell_type": "code",
   "execution_count": null,
   "metadata": {},
   "outputs": [],
   "source": [
    "HaloList = loadingHalo(raw_path,0,1)\n",
    "HaloList = GMap[HaloList]\n",
    "HaloList"
   ]
  },
  {
   "cell_type": "code",
   "execution_count": 27,
   "metadata": {},
   "outputs": [],
   "source": [
    "def loadingFeat(FilePath,nodeNUM,FeatLen):\n",
    "    featFilePath=FilePath+\"raw/feats.bin\"\n",
    "    fpr = np.memmap(featFilePath, dtype='float32', mode='r', shape=(nodeNUM,FeatLen))\n",
    "    return fpr\n",
    "\n",
    "def fetchFeat(fpr,indices):\n",
    "    feats = fpr[indices]\n",
    "    return feats"
   ]
  },
  {
   "cell_type": "code",
   "execution_count": 30,
   "metadata": {},
   "outputs": [],
   "source": [
    "fpr=loadingFeat(raw_path,200,100)\n",
    "feats=fetchFeat(fpr,GMap[:50])\n",
    "feats.tofile(\"test.bin\")"
   ]
  },
  {
   "cell_type": "code",
   "execution_count": null,
   "metadata": {},
   "outputs": [],
   "source": [
    "class DataAdapter:\n",
    "    def __init__(self, FilePath, nodeNUM, FeatLen):\n",
    "        # \"/raid/bear/test_part_dataset/\"\n",
    "        self.raw_path = FilePath\n",
    "        self.featFilePath = FilePath + \"raw/feats.bin\"\n",
    "        self.nodeNUM = nodeNUM\n",
    "        self.FeatLen = FeatLen\n",
    "\n",
    "    def fetchFeat(self, indices):\n",
    "        fpr = np.memmap(self.featFilePath, dtype='float32', mode='r', shape=(self.nodeNUM, self.FeatLen))\n",
    "        feats = fpr[indices]\n",
    "        return feats\n",
    "\n",
    "    def fetchLabel(labelFilePath, indices):\n",
    "        label_data = np.fromfile(labelFilePath, dtype=np.int64)\n",
    "        label_selected_data = label_data[indices]\n",
    "        return label_selected_data\n",
    "\n",
    "    def bin2tensor(filePath, datatype=np.int64):\n",
    "        tensor = np.fromfile(filePath, dtype=datatype)\n",
    "        return tensor\n",
    "\n",
    "    def loadingHalo(filePath, rank1, rank2):\n",
    "        HaloFilePath = filePath + \"part\" + str(rank1) + \"/halo_\" + str(rank2) + \".bin\"\n",
    "        HaloList = self.bin2tensor(HaloFilePath, datatype=np.int64)\n",
    "        return HaloList\n",
    "    \n",
    "    def loadingNode(filePath, rank):\n",
    "        NodeFilePath = filePath + \"part\" + str(rank) + \"/NodeIds.bin\"\n",
    "        NodeList = self.bin2tensor(NodeFilePath, datatype=np.int64)\n",
    "        return NodeList"
   ]
  }
 ],
 "metadata": {
  "kernelspec": {
   "display_name": "graphtest",
   "language": "python",
   "name": "python3"
  },
  "language_info": {
   "codemirror_mode": {
    "name": "ipython",
    "version": 3
   },
   "file_extension": ".py",
   "mimetype": "text/x-python",
   "name": "python",
   "nbconvert_exporter": "python",
   "pygments_lexer": "ipython3",
   "version": "3.8.16"
  },
  "orig_nbformat": 4
 },
 "nbformat": 4,
 "nbformat_minor": 2
}

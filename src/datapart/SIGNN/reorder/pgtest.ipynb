{
 "cells": [
  {
   "cell_type": "code",
   "execution_count": 1,
   "metadata": {},
   "outputs": [
    {
     "name": "stderr",
     "output_type": "stream",
     "text": [
      "/home/bear/miniconda3/envs/dgl_v09/lib/python3.8/site-packages/tqdm/auto.py:21: TqdmWarning: IProgress not found. Please update jupyter and ipywidgets. See https://ipywidgets.readthedocs.io/en/stable/user_install.html\n",
      "  from .autonotebook import tqdm as notebook_tqdm\n"
     ]
    }
   ],
   "source": [
    "import numpy as np\n",
    "import dgl\n",
    "import torch\n",
    "import copy"
   ]
  },
  {
   "cell_type": "code",
   "execution_count": 2,
   "metadata": {
    "notebookRunGroups": {
     "groupValue": ""
    }
   },
   "outputs": [],
   "source": [
    "# loading data\n",
    "GRAPHPATH = \"/home/bear/workspace/single-gnn/data/raid/ogbn_products/graph.bin\"\n",
    "TRAINPATH = \"/home/bear/workspace/single-gnn/data/raid/ogbn_products/trainIds.bin\"\n",
    "FEATPATH = \"/home/bear/workspace/single-gnn/data/raid/ogbn_products/feat.bin\"\n",
    "featlen = 100\n",
    "nodeNUM = 2449029\n",
    "graph = torch.tensor(np.fromfile(GRAPHPATH,dtype=np.int32))\n",
    "src = graph[::2]\n",
    "dst = graph[1::2]\n",
    "trainIds = torch.tensor(np.fromfile(TRAINPATH,dtype=np.int64))\n",
    "feat = torch.tensor(np.fromfile(FEATPATH,dtype=np.float32).reshape(-1,featlen))\n",
    "edgeTable = torch.zeros_like(src).to(torch.int32)\n",
    "template_array = torch.zeros(nodeNUM,dtype=torch.int32)"
   ]
  },
  {
   "cell_type": "code",
   "execution_count": 3,
   "metadata": {},
   "outputs": [],
   "source": [
    "# compute degree\n",
    "inNodeTable = copy.deepcopy(template_array)\n",
    "outNodeTable = copy.deepcopy(template_array)\n",
    "inNodeTable,outNodeTable = dgl.sumDegree(inNodeTable.cuda(),outNodeTable.cuda(),src.cuda(),dst.cuda())\n",
    "inNodeTable = inNodeTable.cpu()\n",
    "outNodeTable = outNodeTable.cpu()"
   ]
  },
  {
   "cell_type": "code",
   "execution_count": 4,
   "metadata": {},
   "outputs": [],
   "source": [
    "# run pagerank 方向相反\n",
    "nodeValue = copy.deepcopy(template_array)\n",
    "nodeInfo = copy.deepcopy(template_array)\n",
    "nodeValue[trainIds] = 10000\n",
    "\n",
    "partitionNUM = 4\n",
    "shuffled_indices = torch.randperm(trainIds.size(0))\n",
    "r_trainId = trainIds[shuffled_indices]\n",
    "trainBatch = torch.chunk(r_trainId, partitionNUM, dim=0)\n",
    "\n",
    "for index,ids in enumerate(trainBatch):\n",
    "    info = 1 << index\n",
    "    nodeInfo[ids] = info\n"
   ]
  },
  {
   "cell_type": "code",
   "execution_count": 5,
   "metadata": {},
   "outputs": [],
   "source": [
    "dst = dst.cuda()\n",
    "src = src.cuda()\n",
    "raw_nodeInfo = copy.deepcopy(nodeInfo)\n",
    "raw_edgeTable = copy.deepcopy(edgeTable)\n",
    "edgeTable = edgeTable.cuda()\n",
    "inNodeTable = inNodeTable.cuda()\n",
    "nodeValue = nodeValue.cuda()\n",
    "nodeInfo = nodeInfo.cuda()\n",
    "for i in range(3):    \n",
    "    dgl.per_pagerank(dst,src,edgeTable,inNodeTable,nodeValue,nodeInfo)\n",
    "dst = dst.cpu()\n",
    "src = src.cpu()\n",
    "edgeTable = edgeTable.cpu()\n",
    "inNodeTable = inNodeTable.cpu()\n",
    "nodeValue = nodeValue.cpu()\n",
    "nodeInfo = nodeInfo.cpu()"
   ]
  },
  {
   "cell_type": "code",
   "execution_count": 6,
   "metadata": {},
   "outputs": [
    {
     "name": "stdout",
     "output_type": "stream",
     "text": [
      "torch.Size([122260331])\n",
      "torch.Size([122232607])\n",
      "torch.Size([122195000])\n",
      "torch.Size([122224461])\n"
     ]
    }
   ],
   "source": [
    "idList2part = []\n",
    "prValue2part = []\n",
    "feat2part = []\n",
    "edge2part = []\n",
    "for bit_position in range(4):\n",
    "    nodeIndex = (nodeInfo & (1 << bit_position)) != 0\n",
    "    edgeIndex = (edgeTable & (1 << bit_position)) != 0\n",
    "    nid = torch.nonzero(nodeIndex).reshape(-1)\n",
    "    eid = torch.nonzero(edgeIndex).reshape(-1)\n",
    "    graph = graph.reshape(-1,2)\n",
    "    subEdge = graph[eid]\n",
    "    partValue = nodeValue[nid]\n",
    "    partFeat = feat[nid]\n",
    "    idList2part.append(nid)\n",
    "    prValue2part.append(partValue)\n",
    "    feat2part.append(partFeat)\n",
    "    edge2part.append(subEdge)"
   ]
  },
  {
   "cell_type": "code",
   "execution_count": 7,
   "metadata": {},
   "outputs": [],
   "source": [
    "# 分区处理获得节点\n",
    "partIndex = 0\n",
    "partid = idList2part[partIndex]\n",
    "partValue = prValue2part[partIndex]\n",
    "partFeat = feat2part[partIndex]\n",
    "subG = edge2part[partIndex]\n",
    "prValue, indices = torch.sort(partValue, descending=True)\n",
    "partid = partid[indices]\n",
    "partFeat = partFeat[indices]"
   ]
  },
  {
   "cell_type": "code",
   "execution_count": 13,
   "metadata": {},
   "outputs": [],
   "source": [
    "srcList = copy.deepcopy(subG[:,0])\n",
    "srcList = srcList.cuda()\n",
    "dstList = copy.deepcopy(subG[:,1])\n",
    "dstList = dstList.cuda()\n",
    "uniTable = torch.zeros_like(partid,dtype=torch.int32).cuda()\n",
    "partid = partid.to(torch.int32).cuda()\n",
    "srcList,dstList,uniTable = dgl.mapByNodeSet(partid,uniTable,srcList,dstList)\n",
    "srcList = srcList.cpu()\n",
    "dstList = dstList.cpu()\n",
    "uniTable = uniTable.cpu()"
   ]
  },
  {
   "cell_type": "code",
   "execution_count": 15,
   "metadata": {},
   "outputs": [],
   "source": [
    "sort_dstList,indice = torch.sort(dstList,dim=0) # 有待提高\n",
    "sort_srcList = srcList[indice]"
   ]
  },
  {
   "cell_type": "code",
   "execution_count": 20,
   "metadata": {},
   "outputs": [
    {
     "name": "stdout",
     "output_type": "stream",
     "text": [
      "122260331\n",
      "234171\n"
     ]
    },
    {
     "data": {
      "text/plain": [
       "tensor(41989236)"
      ]
     },
     "execution_count": 20,
     "metadata": {},
     "output_type": "execute_result"
    }
   ],
   "source": [
    "nodeSize = uniTable.shape[0]\n",
    "edgeSize = srcList.shape[0]\n",
    "fix_NUM = int(nodeSize * 0.1)\n",
    "position = torch.searchsorted(sort_dstList, fix_NUM)"
   ]
  },
  {
   "cell_type": "code",
   "execution_count": 38,
   "metadata": {},
   "outputs": [],
   "source": [
    "fix_indice = sort_srcList[:position]\n",
    "fix_inptr = torch.cat([torch.Tensor([0]).to(torch.int32),torch.cumsum(torch.bincount(sort_dstList[:position]), dim=0)]).to(torch.int32)\n",
    "random_dst = sort_dstList[position:]\n",
    "random_src = sort_srcList[position:]"
   ]
  },
  {
   "cell_type": "code",
   "execution_count": 39,
   "metadata": {},
   "outputs": [],
   "source": [
    "mapTable = torch.zeros_like(uniTable).to(torch.int32) - 1\n",
    "fix_index = torch.arange(fix_NUM-1).to(torch.int32)\n",
    "mapTable[fix_index.to(torch.int64)] = fix_index"
   ]
  },
  {
   "cell_type": "code",
   "execution_count": 40,
   "metadata": {},
   "outputs": [],
   "source": [
    "choice_src = random_src[30000000:60000000]\n",
    "choice_dst = random_dst[30000000:60000000]"
   ]
  },
  {
   "cell_type": "code",
   "execution_count": 48,
   "metadata": {},
   "outputs": [
    {
     "data": {
      "text/plain": [
       "tensor([ 593590,  593591,  593592,  ..., 1219406, 1219407, 1219408])"
      ]
     },
     "execution_count": 48,
     "metadata": {},
     "output_type": "execute_result"
    }
   ],
   "source": [
    "choice_ids = torch.nonzero(torch.bincount(choice_dst)).reshape(-1)\n",
    "choice_ids"
   ]
  },
  {
   "cell_type": "code",
   "execution_count": 49,
   "metadata": {},
   "outputs": [
    {
     "data": {
      "text/plain": [
       "tensor([234171, 234172, 234173,  ..., 859605, 859606, 859607],\n",
       "       dtype=torch.int32)"
      ]
     },
     "execution_count": 49,
     "metadata": {},
     "output_type": "execute_result"
    }
   ],
   "source": [
    "choice_index = torch.arange(len(choice_ids)).to(torch.int32) + fix_NUM\n",
    "choice_index"
   ]
  },
  {
   "cell_type": "code",
   "execution_count": 50,
   "metadata": {},
   "outputs": [],
   "source": [
    "mapTable[choice_ids] = choice_index"
   ]
  },
  {
   "cell_type": "code",
   "execution_count": 55,
   "metadata": {},
   "outputs": [
    {
     "data": {
      "text/plain": [
       "tensor([71, 36, 25,  ..., 80, 23, 57])"
      ]
     },
     "execution_count": 55,
     "metadata": {},
     "output_type": "execute_result"
    }
   ],
   "source": [
    "cumList = torch.bincount(choice_dst)[choice_ids]\n",
    "cumList"
   ]
  },
  {
   "cell_type": "code",
   "execution_count": 56,
   "metadata": {},
   "outputs": [],
   "source": [
    "choice_indice = choice_src\n",
    "choice_inptr = torch.cumsum(cumList, dim=0).to(torch.int32) + fix_inptr[-1]"
   ]
  },
  {
   "cell_type": "code",
   "execution_count": 58,
   "metadata": {},
   "outputs": [],
   "source": [
    "inptr = torch.cat([fix_inptr,choice_inptr])\n",
    "indice = torch.cat([fix_indice,choice_indice])"
   ]
  },
  {
   "cell_type": "code",
   "execution_count": 59,
   "metadata": {},
   "outputs": [
    {
     "data": {
      "text/plain": [
       "tensor([       0,     6169,    16086,  ..., 71989156, 71989179, 71989236],\n",
       "       dtype=torch.int32)"
      ]
     },
     "execution_count": 59,
     "metadata": {},
     "output_type": "execute_result"
    }
   ],
   "source": [
    "inptr"
   ]
  },
  {
   "cell_type": "code",
   "execution_count": 60,
   "metadata": {},
   "outputs": [
    {
     "data": {
      "text/plain": [
       "torch.Size([71989236])"
      ]
     },
     "execution_count": 60,
     "metadata": {},
     "output_type": "execute_result"
    }
   ],
   "source": [
    "indice.shape"
   ]
  }
 ],
 "metadata": {
  "kernelspec": {
   "display_name": "dgl_v09",
   "language": "python",
   "name": "python3"
  },
  "language_info": {
   "codemirror_mode": {
    "name": "ipython",
    "version": 3
   },
   "file_extension": ".py",
   "mimetype": "text/x-python",
   "name": "python",
   "nbconvert_exporter": "python",
   "pygments_lexer": "ipython3",
   "version": "3.8.17"
  }
 },
 "nbformat": 4,
 "nbformat_minor": 2
}

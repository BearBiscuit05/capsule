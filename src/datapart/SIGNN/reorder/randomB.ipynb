{
 "cells": [
  {
   "cell_type": "code",
   "execution_count": 12,
   "metadata": {},
   "outputs": [],
   "source": [
    "import torch\n",
    "import numpy as np\n",
    "import dgl"
   ]
  },
  {
   "cell_type": "code",
   "execution_count": 9,
   "metadata": {},
   "outputs": [],
   "source": [
    "graphPATH = \"/home/bear/workspace/single-gnn/data/partition/PD/part0/raw_G.bin\"\n",
    "nodePATH = \"/home/bear/workspace/single-gnn/data/partition/PD/part0/raw_nodes.bin\"\n",
    "graph = torch.tensor(np.fromfile(graphPATH,dtype=np.int32).reshape(-1,2))\n",
    "node = torch.tensor(np.fromfile(nodePATH,dtype=np.int64))"
   ]
  },
  {
   "cell_type": "code",
   "execution_count": 14,
   "metadata": {},
   "outputs": [],
   "source": [
    "src_batch = graph[::2].cuda()\n",
    "dst_batch = graph[1::2].cuda()\n",
    "node = node.to(torch.int32).cuda()\n",
    "uni = torch.ones(len(node)).to(torch.int32).cuda()\n",
    "srcShuffled,dstShuffled,uni = dgl.mapByNodeSet(node,uni,src_batch,dst_batch)"
   ]
  }
 ],
 "metadata": {
  "kernelspec": {
   "display_name": "dgl_v09",
   "language": "python",
   "name": "python3"
  },
  "language_info": {
   "codemirror_mode": {
    "name": "ipython",
    "version": 3
   },
   "file_extension": ".py",
   "mimetype": "text/x-python",
   "name": "python",
   "nbconvert_exporter": "python",
   "pygments_lexer": "ipython3",
   "version": "3.8.17"
  }
 },
 "nbformat": 4,
 "nbformat_minor": 2
}

{
 "cells": [
  {
   "cell_type": "code",
   "execution_count": 1,
   "metadata": {},
   "outputs": [],
   "source": [
    "from scipy.sparse import csr_matrix\n",
    "from scipy.sparse import coo_matrix\n",
    "import numpy as np \n",
    "import torch\n",
    "import dgl\n",
    "from dgl.data import AsNodePredDataset\n",
    "from ogb.nodeproppred import DglNodePropPredDataset"
   ]
  },
  {
   "cell_type": "code",
   "execution_count": null,
   "metadata": {},
   "outputs": [],
   "source": []
  },
  {
   "cell_type": "code",
   "execution_count": 11,
   "metadata": {},
   "outputs": [],
   "source": [
    "graph = np.fromfile(\"/home/bear/workspace/single-gnn/data/raid/ogbn_products/graph.bin\")"
   ]
  },
  {
   "cell_type": "code",
   "execution_count": 12,
   "metadata": {},
   "outputs": [],
   "source": [
    "src = graph[::2]\n",
    "dst = graph[1::2]"
   ]
  },
  {
   "cell_type": "code",
   "execution_count": 13,
   "metadata": {},
   "outputs": [],
   "source": [
    "trainIds = np.fromfile(\"/home/bear/workspace/single-gnn/data/raid/ogbn_products/trainMask.bin\",dtype=np.int8)"
   ]
  },
  {
   "cell_type": "code",
   "execution_count": 16,
   "metadata": {},
   "outputs": [
    {
     "data": {
      "text/plain": [
       "tensor([     0,      1,      2,  ..., 196612, 196613, 196614])"
      ]
     },
     "execution_count": 16,
     "metadata": {},
     "output_type": "execute_result"
    }
   ],
   "source": [
    "ids = torch.nonzero(torch.tensor(trainIds))\n",
    "ids = ids.reshape(-1).to(np.int32)"
   ]
  },
  {
   "cell_type": "code",
   "execution_count": 18,
   "metadata": {},
   "outputs": [
    {
     "data": {
      "text/plain": [
       "tensor([0, 0, 0,  ..., 0, 0, 0], dtype=torch.int32)"
      ]
     },
     "execution_count": 18,
     "metadata": {},
     "output_type": "execute_result"
    }
   ],
   "source": [
    "nodeTable = torch.zeros(2449029,dtype=torch.int32)\n",
    "nodeTable"
   ]
  },
  {
   "cell_type": "code",
   "execution_count": 20,
   "metadata": {},
   "outputs": [
    {
     "data": {
      "text/plain": [
       "tensor([1, 1, 1,  ..., 0, 0, 0], dtype=torch.int32)"
      ]
     },
     "execution_count": 20,
     "metadata": {},
     "output_type": "execute_result"
    }
   ],
   "source": [
    "nodeTable[ids] = 1\n",
    "nodeTable"
   ]
  },
  {
   "cell_type": "code",
   "execution_count": null,
   "metadata": {},
   "outputs": [],
   "source": [
    "dgl.fastFindNeighbor(nodeTable,src,dst)"
   ]
  },
  {
   "cell_type": "code",
   "execution_count": 24,
   "metadata": {},
   "outputs": [],
   "source": [
    "from scipy.sparse import csr_matrix\n",
    "from scipy.sparse import coo_matrix\n",
    "import numpy as np \n",
    "import torch\n",
    "import dgl\n",
    "import time \n",
    "import copy\n",
    "## bfs 遍历获取基础子图\n",
    "GRAPHPATH = \"/home/bear/workspace/single-gnn/data/raid/uk-2006-05\"\n",
    "graph = np.fromfile(GRAPHPATH + \"/graph.bin\",dtype=np.int32)\n",
    "trainIds = np.fromfile(GRAPHPATH + \"/train_mask.bin\",dtype=np.int8)\n",
    "src = graph[::2]\n",
    "dst = graph[1::2]\n",
    "maxID = 77741046\n",
    "ids = torch.nonzero(torch.tensor(trainIds))\n",
    "ids = ids.reshape(-1).to(torch.int64)\n",
    "# ids = torch.arange(int(maxID*0.01),dtype=torch.int64)\n",
    "nodeTable = torch.zeros(maxID,dtype=torch.int32)\n",
    "nodeTable[ids] = 1\n",
    "\n",
    "raw_nodeTable = copy.deepcopy(nodeTable)\n",
    "next_nodeTable = copy.deepcopy(nodeTable)\n",
    "\n",
    "batch_size = 2\n",
    "nodeTable = nodeTable.cuda()\n",
    "src = torch.tensor(src)\n",
    "dst = torch.tensor(dst)\n",
    "src_batches = torch.chunk(src, batch_size, dim=0)\n",
    "dst_batches = torch.chunk(dst, batch_size, dim=0)"
   ]
  },
  {
   "cell_type": "code",
   "execution_count": 29,
   "metadata": {},
   "outputs": [
    {
     "data": {
      "text/plain": [
       "torch.Size([2965197340])"
      ]
     },
     "execution_count": 29,
     "metadata": {},
     "output_type": "execute_result"
    },
    {
     "ename": "",
     "evalue": "",
     "output_type": "error",
     "traceback": [
      "\u001b[1;31m在当前单元格或上一个单元格中执行代码时 Kernel 崩溃。请查看单元格中的代码，以确定故障的可能原因。有关详细信息，请单击 <a href='https://aka.ms/vscodeJupyterKernelCrash'>此处</a>。有关更多详细信息，请查看 Jupyter <a href='command:jupyter.viewOutput'>log</a>。"
     ]
    }
   ],
   "source": [
    "src.shape"
   ]
  },
  {
   "cell_type": "code",
   "execution_count": 28,
   "metadata": {},
   "outputs": [
    {
     "name": "stdout",
     "output_type": "stream",
     "text": [
      "torch.Size([1482598670])\n",
      "torch.Size([1482598670])\n",
      "---------------\n",
      "torch.Size([1482598670])\n",
      "torch.Size([1482598670])\n",
      "---------------\n"
     ]
    }
   ],
   "source": [
    "batch = [src_batches, dst_batches]\n",
    "for src_batch,dst_batch in zip(*batch):\n",
    "    print(src_batch.shape)\n",
    "    print(dst_batch.shape)\n",
    "    print(\"-\"*15)"
   ]
  },
  {
   "cell_type": "code",
   "execution_count": null,
   "metadata": {},
   "outputs": [],
   "source": [
    "# src = torch.tensor(src).cuda()\n",
    "# dst = torch.tensor(dst).cuda()\n",
    "\n",
    "\n",
    "repeats = 3\n",
    "start = time.time()\n",
    "for index in range(1,repeats+1):\n",
    "    for src_batch,dst_batch in zip(*batch):\n",
    "        tmp_nodeTabel = copy.deepcopy(raw_nodeTable)\n",
    "        print(f\"before {index} BFS has {nodeTable.sum()} nodes, {nodeTable.sum() * 1.0 / maxID * 100 :.2f}% of total nodes\")\n",
    "        dgl.fastFindNeighbor(tmp_nodeTabel, src_batch, dst_batch)\n",
    "        print(f\"after {index} BFS has {nodeTable.sum()} nodes, {nodeTable.sum() * 1.0 / maxID * 100 :.2f}% of total nodes\")\n",
    "        print('-'*10)\n",
    "        next_nodeTable = next_nodeTable | tmp_nodeTabel\n",
    "print(f\"all bfs cost {time.time()-start:.3f}s\")\n",
    "## loading graph"
   ]
  }
 ],
 "metadata": {
  "kernelspec": {
   "display_name": "graphtest",
   "language": "python",
   "name": "python3"
  },
  "language_info": {
   "codemirror_mode": {
    "name": "ipython",
    "version": 3
   },
   "file_extension": ".py",
   "mimetype": "text/x-python",
   "name": "python",
   "nbconvert_exporter": "python",
   "pygments_lexer": "ipython3",
   "version": "3.8.16"
  }
 },
 "nbformat": 4,
 "nbformat_minor": 2
}

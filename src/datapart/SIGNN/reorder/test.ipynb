{
 "cells": [
  {
   "cell_type": "code",
   "execution_count": 1,
   "metadata": {},
   "outputs": [
    {
     "name": "stderr",
     "output_type": "stream",
     "text": [
      "/home/bear/miniconda3/envs/dgl_v09/lib/python3.8/site-packages/tqdm/auto.py:21: TqdmWarning: IProgress not found. Please update jupyter and ipywidgets. See https://ipywidgets.readthedocs.io/en/stable/user_install.html\n",
      "  from .autonotebook import tqdm as notebook_tqdm\n",
      "WARNING:root:The OGB package is out of date. Your version is 1.3.3, while the latest version is 1.3.6.\n"
     ]
    }
   ],
   "source": [
    "from scipy.sparse import csr_matrix\n",
    "from scipy.sparse import coo_matrix\n",
    "import numpy as np \n",
    "import torch\n",
    "import dgl\n",
    "from dgl.data import AsNodePredDataset\n",
    "from ogb.nodeproppred import DglNodePropPredDataset"
   ]
  },
  {
   "cell_type": "code",
   "execution_count": 11,
   "metadata": {},
   "outputs": [
    {
     "data": {
      "text/plain": [
       "array([    0,     1,     2, ..., 49150, 49151, 49152], dtype=int32)"
      ]
     },
     "execution_count": 11,
     "metadata": {},
     "output_type": "execute_result"
    }
   ],
   "source": [
    "id = np.fromfile(\"/home/bear/workspace/single-gnn/data/partition/PD/processed/part3/trainIds.bin\",dtype=np.int32)\n",
    "id"
   ]
  },
  {
   "cell_type": "code",
   "execution_count": 12,
   "metadata": {},
   "outputs": [
    {
     "data": {
      "text/plain": [
       "297738"
      ]
     },
     "execution_count": 12,
     "metadata": {},
     "output_type": "execute_result"
    }
   ],
   "source": [
    "labels = np.fromfile(\"/home/bear/workspace/single-gnn/data/partition/PD/processed/part3/labels.bin\",dtype=np.int64)\n",
    "labels[id].sum()"
   ]
  },
  {
   "cell_type": "code",
   "execution_count": 23,
   "metadata": {},
   "outputs": [],
   "source": [
    "dataset = AsNodePredDataset(DglNodePropPredDataset('ogbn-products',root=\"/home/bear/workspace/single-gnn/data/dataset\"))\n",
    "g = dataset[0]\n",
    "label = g.ndata['label']\n",
    "trainIdx = g.ndata['train_mask']\n",
    "trainIdx = torch.nonzero(trainIdx).reshape(-1)\n",
    "trainLabel = label[trainIdx]\n",
    "rightSUM = trainLabel.sum()"
   ]
  },
  {
   "cell_type": "code",
   "execution_count": 2,
   "metadata": {},
   "outputs": [],
   "source": [
    "trainId = torch.arange(196615,dtype=torch.int64)\n",
    "batch_size = 4\n",
    "trainBatch = torch.chunk(trainId, batch_size, dim=0)\n",
    "maxID=2449029\n",
    "GRAPHPATH=\"/home/bear/workspace/single-gnn/data/raid/ogbn_products\"\n",
    "graph = np.fromfile(GRAPHPATH+\"/graph.bin\",dtype=np.int32)"
   ]
  },
  {
   "cell_type": "code",
   "execution_count": 3,
   "metadata": {},
   "outputs": [],
   "source": [
    "dst = torch.tensor(graph[::2])\n",
    "src = torch.tensor(graph[1::2])\n",
    "nodeTable = torch.zeros(maxID,dtype=torch.int32)\n",
    "nodeTable[trainId] = 1\n",
    "batch_size = 3\n",
    "src_batches = torch.chunk(src, batch_size, dim=0)\n",
    "dst_batches = torch.chunk(dst, batch_size, dim=0)\n",
    "batch = [src_batches, dst_batches]\n",
    "edgeTable = torch.zeros_like(src,dtype=torch.int32).cuda()\n",
    "edgeNUM = 0\n",
    "allEdgeNUM = src.numel()"
   ]
  },
  {
   "cell_type": "code",
   "execution_count": 4,
   "metadata": {},
   "outputs": [
    {
     "name": "stdout",
     "output_type": "stream",
     "text": [
      "before 1 BFS has 196615 nodes, 8.03% of total nodes\n",
      "end bfs...\n",
      "edge add to subG : 26927735 , 21.77% of total edges\n",
      "after 1 BFS has 1872007 nodes, 76.44% of total nodes\n",
      "----------\n",
      "before 2 BFS has 1872007 nodes, 76.44% of total nodes\n",
      "end bfs...\n",
      "edge add to subG : 8969549 , 7.25% of total edges\n",
      "after 2 BFS has 2242369 nodes, 91.56% of total nodes\n",
      "----------\n",
      "before 3 BFS has 2242369 nodes, 91.56% of total nodes\n",
      "end bfs...\n",
      "edge add to subG : 27177668 , 21.97% of total edges\n",
      "after 3 BFS has 2281666 nodes, 93.17% of total nodes\n",
      "----------\n"
     ]
    }
   ],
   "source": [
    "import copy\n",
    "repeats = 3\n",
    "for index in range(1,repeats+1):\n",
    "    acc_tabel = torch.zeros_like(nodeTable,dtype=torch.int32)\n",
    "    #raw_nodeTabel = copy.deepcopy(nodeTable)\n",
    "    print(f\"before {index} BFS has {torch.nonzero(nodeTable).size(0)} nodes, \"\n",
    "        f\"{torch.nonzero(nodeTable).size(0) * 1.0 / maxID * 100 :.2f}% of total nodes\")\n",
    "    for src_batch,dst_batch in zip(*batch):\n",
    "        tmp_nodeTabel = copy.deepcopy(nodeTable)\n",
    "        tmp_nodeTabel = tmp_nodeTabel.cuda()\n",
    "        src_batch = src_batch.cuda()\n",
    "        dst_batch = dst_batch.cuda()\n",
    "        #dgl.fastFindNeighbor(tmp_nodeTabel, src_batch, dst_batch, acc)\n",
    "        dgl.fastFindNeigEdge(tmp_nodeTabel,edgeTable,src_batch, dst_batch)\n",
    "        tmp_nodeTabel = tmp_nodeTabel.cpu()\n",
    "        acc_tabel = acc_tabel + tmp_nodeTabel - nodeTable\n",
    "    print(\"end bfs...\")\n",
    "    edgeNUM = edgeTable.cpu().sum() - edgeNUM\n",
    "    print(f\"edge add to subG : {edgeNUM} , {edgeNUM * 1.0 / allEdgeNUM * 100 :.2f}% of total edges\")\n",
    "    nodeTable = nodeTable + acc_tabel\n",
    "    print(f\"after {index} BFS has {torch.nonzero(nodeTable).size(0)} nodes, \"\n",
    "            f\"{torch.nonzero(nodeTable).size(0) * 1.0 / maxID * 100 :.2f}% of total nodes\")\n",
    "    print('-'*10)\n",
    "edgeTable = edgeTable.cpu()"
   ]
  },
  {
   "cell_type": "code",
   "execution_count": 5,
   "metadata": {},
   "outputs": [],
   "source": [
    "dst_batch = dst_batch.cpu()\n",
    "src_batch = src_batch.cpu()"
   ]
  },
  {
   "cell_type": "code",
   "execution_count": 6,
   "metadata": {},
   "outputs": [
    {
     "data": {
      "text/plain": [
       "torch.Size([123718280])"
      ]
     },
     "execution_count": 6,
     "metadata": {},
     "output_type": "execute_result"
    }
   ],
   "source": [
    "edgeTable.shape"
   ]
  },
  {
   "cell_type": "code",
   "execution_count": 7,
   "metadata": {},
   "outputs": [],
   "source": [
    "edgeid = torch.nonzero(edgeTable).reshape(-1)"
   ]
  },
  {
   "cell_type": "code",
   "execution_count": 8,
   "metadata": {},
   "outputs": [
    {
     "data": {
      "text/plain": [
       "tensor([       0,        1,        2,  ..., 41239424, 41239425, 41239426])"
      ]
     },
     "execution_count": 8,
     "metadata": {},
     "output_type": "execute_result"
    }
   ],
   "source": [
    "edgeid"
   ]
  },
  {
   "cell_type": "code",
   "execution_count": 9,
   "metadata": {},
   "outputs": [],
   "source": [
    "hop1 = graph.reshape(-1,2)[edgeid]"
   ]
  },
  {
   "cell_type": "code",
   "execution_count": 10,
   "metadata": {},
   "outputs": [
    {
     "data": {
      "text/plain": [
       "tensor([[    0,     0],\n",
       "        [    1,     1],\n",
       "        [    2,     2],\n",
       "        ...,\n",
       "        [49151, 49151],\n",
       "        [49152, 49152],\n",
       "        [49153, 49153]])"
      ]
     },
     "execution_count": 10,
     "metadata": {},
     "output_type": "execute_result"
    }
   ],
   "source": [
    "selfLoop = np.repeat(trainBatch[0], 2).reshape(-1,2)\n",
    "selfLoop"
   ]
  },
  {
   "cell_type": "code",
   "execution_count": 13,
   "metadata": {},
   "outputs": [
    {
     "name": "stderr",
     "output_type": "stream",
     "text": [
      "/tmp/ipykernel_1980112/829579371.py:1: UserWarning: To copy construct from a tensor, it is recommended to use sourceTensor.clone().detach() or sourceTensor.clone().detach().requires_grad_(True), rather than torch.tensor(sourceTensor).\n",
      "  selfLoop = torch.tensor(selfLoop)\n"
     ]
    },
    {
     "data": {
      "text/plain": [
       "tensor([[      0,       0],\n",
       "        [      1,       1],\n",
       "        [      2,       2],\n",
       "        ...,\n",
       "        [ 523322, 1561582],\n",
       "        [1561582,  523322],\n",
       "        [ 523322, 1947756]])"
      ]
     },
     "execution_count": 13,
     "metadata": {},
     "output_type": "execute_result"
    }
   ],
   "source": [
    "selfLoop = torch.tensor(selfLoop)\n",
    "hop1 = torch.tensor(hop1)\n",
    "hop1 = torch.cat([selfLoop,hop1.reshape(-1,2)])\n",
    "hop1"
   ]
  },
  {
   "cell_type": "code",
   "execution_count": 14,
   "metadata": {},
   "outputs": [],
   "source": [
    "hop1 = hop1.reshape(-1)\n",
    "srcs = hop1[::2]\n",
    "dsts = hop1[1::2]"
   ]
  },
  {
   "cell_type": "code",
   "execution_count": 16,
   "metadata": {},
   "outputs": [
    {
     "data": {
      "text/plain": [
       "tensor([      0,       1,       2,  ..., 1561582,  523322, 1947756])"
      ]
     },
     "execution_count": 16,
     "metadata": {},
     "output_type": "execute_result"
    }
   ],
   "source": [
    "dsts"
   ]
  },
  {
   "cell_type": "code",
   "execution_count": 17,
   "metadata": {},
   "outputs": [],
   "source": [
    "srcs_tensor = srcs.to(torch.int32).cuda()\n",
    "dsts_tensor = dsts.to(torch.int32).cuda()\n",
    "uni = torch.ones(len(dsts)*2).to(torch.int32).cuda()"
   ]
  },
  {
   "cell_type": "code",
   "execution_count": 19,
   "metadata": {},
   "outputs": [
    {
     "data": {
      "text/plain": [
       "tensor([1, 1, 1,  ..., 1, 1, 1], device='cuda:0', dtype=torch.int32)"
      ]
     },
     "execution_count": 19,
     "metadata": {},
     "output_type": "execute_result"
    }
   ],
   "source": [
    "uni"
   ]
  },
  {
   "cell_type": "code",
   "execution_count": 20,
   "metadata": {},
   "outputs": [],
   "source": [
    "srcShuffled,dstShuffled,uni = dgl.remappingNode(srcs_tensor,dsts_tensor,uni)"
   ]
  },
  {
   "cell_type": "code",
   "execution_count": 21,
   "metadata": {},
   "outputs": [
    {
     "data": {
      "text/plain": [
       "tensor([      0,       1,       2,  ..., 1942208,  777620, 1285120],\n",
       "       device='cuda:0', dtype=torch.int32)"
      ]
     },
     "execution_count": 21,
     "metadata": {},
     "output_type": "execute_result"
    }
   ],
   "source": [
    "uni"
   ]
  },
  {
   "cell_type": "code",
   "execution_count": 24,
   "metadata": {},
   "outputs": [],
   "source": [
    "subLabel = label[uni.to(torch.int64)]"
   ]
  },
  {
   "cell_type": "code",
   "execution_count": 25,
   "metadata": {},
   "outputs": [
    {
     "data": {
      "text/plain": [
       "torch.Size([1707527])"
      ]
     },
     "execution_count": 25,
     "metadata": {},
     "output_type": "execute_result"
    }
   ],
   "source": [
    "subLabel.shape"
   ]
  },
  {
   "cell_type": "code",
   "execution_count": 28,
   "metadata": {},
   "outputs": [
    {
     "data": {
      "text/plain": [
       "tensor(300360)"
      ]
     },
     "execution_count": 28,
     "metadata": {},
     "output_type": "execute_result"
    },
    {
     "ename": "",
     "evalue": "",
     "output_type": "error",
     "traceback": [
      "\u001b[1;31m在当前单元格或上一个单元格中执行代码时 Kernel 崩溃。请查看单元格中的代码，以确定故障的可能原因。有关详细信息，请单击 <a href='https://aka.ms/vscodeJupyterKernelCrash'>此处</a>。有关更多详细信息，请查看 Jupyter <a href='command:jupyter.viewOutput'>log</a>。"
     ]
    }
   ],
   "source": [
    "TLabel = subLabel[:len(trainBatch[0])].sum()\n",
    "TLabel"
   ]
  },
  {
   "cell_type": "code",
   "execution_count": 26,
   "metadata": {},
   "outputs": [
    {
     "data": {
      "text/plain": [
       "tensor([    0,     1,     2,  ..., 49151, 49152, 49153], dtype=torch.int32)"
      ]
     },
     "execution_count": 26,
     "metadata": {},
     "output_type": "execute_result"
    }
   ],
   "source": [
    "batch_size = 4\n",
    "trainBatch = torch.chunk(trainIdx, batch_size, dim=0)\n",
    "trainSet_1 = trainBatch[0].to(torch.int32)\n",
    "trainSet_1"
   ]
  },
  {
   "cell_type": "code",
   "execution_count": 30,
   "metadata": {},
   "outputs": [
    {
     "data": {
      "text/plain": [
       "tensor([     1,     46,     93,  ...,  68144, 595404, 595408],\n",
       "       dtype=torch.int32)"
      ]
     },
     "execution_count": 30,
     "metadata": {},
     "output_type": "execute_result"
    }
   ],
   "source": [
    "Lid = torch.zeros_like(trainSet_1).to(torch.int32).cuda()\n",
    "dgl.mapLocalId(uni.cuda(),trainSet_1.cuda(),Lid)\n",
    "Lid = Lid.cpu()\n",
    "Lid"
   ]
  },
  {
   "cell_type": "code",
   "execution_count": 37,
   "metadata": {},
   "outputs": [
    {
     "data": {
      "text/plain": [
       "tensor(300360)"
      ]
     },
     "execution_count": 37,
     "metadata": {},
     "output_type": "execute_result"
    }
   ],
   "source": [
    "right = label[trainSet_1.to(torch.int64)]\n",
    "right.sum()"
   ]
  },
  {
   "cell_type": "code",
   "execution_count": 36,
   "metadata": {},
   "outputs": [
    {
     "data": {
      "text/plain": [
       "tensor(300143)"
      ]
     },
     "execution_count": 36,
     "metadata": {},
     "output_type": "execute_result"
    }
   ],
   "source": [
    "error = subLabel[Lid.to(torch.int64)]\n",
    "error.sum()"
   ]
  },
  {
   "cell_type": "code",
   "execution_count": 39,
   "metadata": {},
   "outputs": [],
   "source": [
    "uni=uni.cpu()"
   ]
  },
  {
   "cell_type": "code",
   "execution_count": 46,
   "metadata": {},
   "outputs": [
    {
     "data": {
      "text/plain": [
       "tensor([    0,     1,     2,  ..., 49151, 49152, 49153])"
      ]
     },
     "execution_count": 46,
     "metadata": {},
     "output_type": "execute_result"
    }
   ],
   "source": [
    "trainBatch[0]"
   ]
  },
  {
   "cell_type": "code",
   "execution_count": 48,
   "metadata": {},
   "outputs": [
    {
     "data": {
      "text/plain": [
       "tensor([    0,     1,     2,  ..., 49151, 49152, 49153], dtype=torch.int32)"
      ]
     },
     "execution_count": 48,
     "metadata": {},
     "output_type": "execute_result"
    }
   ],
   "source": [
    "tt = uni[Lid.to(torch.int64)]\n",
    "tt"
   ]
  },
  {
   "cell_type": "code",
   "execution_count": 64,
   "metadata": {},
   "outputs": [
    {
     "data": {
      "text/plain": [
       "tensor(152857, dtype=torch.int32)"
      ]
     },
     "execution_count": 64,
     "metadata": {},
     "output_type": "execute_result"
    }
   ],
   "source": [
    "tt[4677]"
   ]
  },
  {
   "cell_type": "code",
   "execution_count": 53,
   "metadata": {},
   "outputs": [
    {
     "data": {
      "text/plain": [
       "torch.return_types.max(\n",
       "values=tensor(152857, dtype=torch.int32),\n",
       "indices=tensor(4677))"
      ]
     },
     "execution_count": 53,
     "metadata": {},
     "output_type": "execute_result"
    }
   ],
   "source": [
    "torch.max(tt,dim=0)"
   ]
  },
  {
   "cell_type": "code",
   "execution_count": 57,
   "metadata": {},
   "outputs": [],
   "source": [
    "sorted_indices = np.argsort(uni)"
   ]
  },
  {
   "cell_type": "code",
   "execution_count": 60,
   "metadata": {},
   "outputs": [
    {
     "data": {
      "text/plain": [
       "tensor([      0,       1,       2,  ..., 2449026, 2449027, 2449028],\n",
       "       dtype=torch.int32)"
      ]
     },
     "execution_count": 60,
     "metadata": {},
     "output_type": "execute_result"
    }
   ],
   "source": [
    "sorted_tensor = uni[sorted_indices]\n",
    "sorted_tensor"
   ]
  },
  {
   "cell_type": "code",
   "execution_count": 63,
   "metadata": {},
   "outputs": [
    {
     "data": {
      "text/plain": [
       "49154"
      ]
     },
     "execution_count": 63,
     "metadata": {},
     "output_type": "execute_result"
    }
   ],
   "source": [
    "len(trainBatch[0])"
   ]
  },
  {
   "cell_type": "code",
   "execution_count": 62,
   "metadata": {},
   "outputs": [
    {
     "data": {
      "text/plain": [
       "tensor(49169, dtype=torch.int32)"
      ]
     },
     "execution_count": 62,
     "metadata": {},
     "output_type": "execute_result"
    }
   ],
   "source": [
    "torch.max(sorted_tensor[:len(trainBatch[0])])"
   ]
  },
  {
   "cell_type": "code",
   "execution_count": 61,
   "metadata": {},
   "outputs": [
    {
     "data": {
      "text/plain": [
       "False"
      ]
     },
     "execution_count": 61,
     "metadata": {},
     "output_type": "execute_result"
    }
   ],
   "source": [
    "is_increasing = np.all(np.diff(sorted_tensor[:len(trainBatch[0])]) == 1)\n",
    "is_increasing"
   ]
  },
  {
   "cell_type": "code",
   "execution_count": 25,
   "metadata": {},
   "outputs": [],
   "source": [
    "dd = hop1.reshape(-1)[1::2]"
   ]
  },
  {
   "cell_type": "code",
   "execution_count": 24,
   "metadata": {},
   "outputs": [
    {
     "data": {
      "text/plain": [
       "tensor(196615)"
      ]
     },
     "execution_count": 24,
     "metadata": {},
     "output_type": "execute_result"
    }
   ],
   "source": [
    "nodeTable.sum()"
   ]
  },
  {
   "cell_type": "code",
   "execution_count": 7,
   "metadata": {},
   "outputs": [
    {
     "name": "stdout",
     "output_type": "stream",
     "text": [
      "tensor(300360)\n",
      "tensor(300324)\n",
      "tensor(299719)\n",
      "tensor(297738)\n"
     ]
    }
   ],
   "source": [
    "for trainIdx in trainBatch:\n",
    "    print(label[trainIdx].sum())"
   ]
  },
  {
   "cell_type": "code",
   "execution_count": 2,
   "metadata": {},
   "outputs": [
    {
     "name": "stdout",
     "output_type": "stream",
     "text": [
      "300143\n",
      "300242\n",
      "299669\n",
      "297596\n"
     ]
    }
   ],
   "source": [
    "PATH = \"/home/bear/workspace/single-gnn/data/partition/PD/processed/part\"\n",
    "tmpSUM = 0\n",
    "for i in range(4):\n",
    "    trainIds = np.fromfile(PATH + f\"{i}/trainIds.bin\",dtype=np.int32)\n",
    "    trainIds = torch.tensor(trainIds).to(torch.int64)\n",
    "    labels = np.fromfile(PATH + f\"{i}/labels.bin\",dtype=np.int64)\n",
    "    tmplabel = labels[trainIds]\n",
    "    tmpSUM = tmplabel.sum()\n",
    "    print(tmpSUM)"
   ]
  }
 ],
 "metadata": {
  "kernelspec": {
   "display_name": "graphtest",
   "language": "python",
   "name": "python3"
  },
  "language_info": {
   "codemirror_mode": {
    "name": "ipython",
    "version": 3
   },
   "file_extension": ".py",
   "mimetype": "text/x-python",
   "name": "python",
   "nbconvert_exporter": "python",
   "pygments_lexer": "ipython3",
   "version": "3.8.17"
  }
 },
 "nbformat": 4,
 "nbformat_minor": 2
}

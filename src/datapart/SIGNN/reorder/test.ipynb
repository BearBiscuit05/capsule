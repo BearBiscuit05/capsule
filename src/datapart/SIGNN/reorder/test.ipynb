{
 "cells": [
  {
   "cell_type": "code",
   "execution_count": 1,
   "metadata": {},
   "outputs": [
    {
     "name": "stderr",
     "output_type": "stream",
     "text": [
      "/home/bear/miniconda3/envs/dgl_v09/lib/python3.8/site-packages/tqdm/auto.py:21: TqdmWarning: IProgress not found. Please update jupyter and ipywidgets. See https://ipywidgets.readthedocs.io/en/stable/user_install.html\n",
      "  from .autonotebook import tqdm as notebook_tqdm\n",
      "WARNING:root:The OGB package is out of date. Your version is 1.3.3, while the latest version is 1.3.6.\n"
     ]
    }
   ],
   "source": [
    "from scipy.sparse import csr_matrix\n",
    "from scipy.sparse import coo_matrix\n",
    "import numpy as np \n",
    "import torch\n",
    "import dgl\n",
    "from dgl.data import AsNodePredDataset\n",
    "from ogb.nodeproppred import DglNodePropPredDataset"
   ]
  },
  {
   "cell_type": "code",
   "execution_count": 2,
   "metadata": {},
   "outputs": [],
   "source": [
    "dataset = AsNodePredDataset(DglNodePropPredDataset('ogbn-products',root=\"/home/bear/workspace/single-gnn/data/dataset\"))\n",
    "g = dataset[0]\n",
    "label = g.ndata['label']\n",
    "trainIdx = g.ndata['train_mask']\n",
    "trainIdx = torch.nonzero(trainIdx).reshape(-1)\n",
    "trainLabel = label[trainIdx]\n",
    "rightSUM = trainLabel.sum()"
   ]
  },
  {
   "cell_type": "code",
   "execution_count": null,
   "metadata": {},
   "outputs": [],
   "source": [
    "trainId = torch.arange(196615,dtype=torch.int64)\n",
    "batch_size = 4\n",
    "trainBatch = torch.chunk(trainId, batch_size, dim=0)"
   ]
  },
  {
   "cell_type": "code",
   "execution_count": 15,
   "metadata": {},
   "outputs": [
    {
     "data": {
      "text/plain": [
       "1197650"
      ]
     },
     "execution_count": 15,
     "metadata": {},
     "output_type": "execute_result"
    }
   ],
   "source": [
    "PATH = \"/home/bear/workspace/single-gnn/data/partition/PD/processed/part\"\n",
    "tmpSUM = 0\n",
    "for i in range(4):\n",
    "    # indices = np.fromfile(PATH + f\"{i}/indices.bin\",dtype=np.int32)\n",
    "    # indptr = np.fromfile(PATH + f\"{i}/indptr.bin\",dtype=np.int32)\n",
    "    # indptr = torch.tensor(indptr).to(torch.int64)\n",
    "    # indices = torch.tensor(indices).to(torch.int64)\n",
    "    trainIds = np.fromfile(PATH + f\"{i}/trainIds.bin\",dtype=np.int32)\n",
    "    trainIds = torch.tensor(trainIds).to(torch.int64)\n",
    "    labels = np.fromfile(PATH + f\"{i}/labels.bin\",dtype=np.int64)\n",
    "    tmplabel = labels[trainIds]\n",
    "    tmpSUM += tmplabel.sum()\n",
    "tmpSUM"
   ]
  }
 ],
 "metadata": {
  "kernelspec": {
   "display_name": "graphtest",
   "language": "python",
   "name": "python3"
  },
  "language_info": {
   "codemirror_mode": {
    "name": "ipython",
    "version": 3
   },
   "file_extension": ".py",
   "mimetype": "text/x-python",
   "name": "python",
   "nbconvert_exporter": "python",
   "pygments_lexer": "ipython3",
   "version": "3.8.17"
  }
 },
 "nbformat": 4,
 "nbformat_minor": 2
}

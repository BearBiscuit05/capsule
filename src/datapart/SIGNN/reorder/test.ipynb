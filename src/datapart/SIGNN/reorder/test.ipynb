{
 "cells": [
  {
   "cell_type": "code",
   "execution_count": 1,
   "metadata": {},
   "outputs": [
    {
     "name": "stderr",
     "output_type": "stream",
     "text": [
      "/home/bear/miniconda3/envs/dgl_v09/lib/python3.8/site-packages/tqdm/auto.py:21: TqdmWarning: IProgress not found. Please update jupyter and ipywidgets. See https://ipywidgets.readthedocs.io/en/stable/user_install.html\n",
      "  from .autonotebook import tqdm as notebook_tqdm\n",
      "WARNING:root:The OGB package is out of date. Your version is 1.3.3, while the latest version is 1.3.6.\n"
     ]
    }
   ],
   "source": [
    "from scipy.sparse import csr_matrix\n",
    "from scipy.sparse import coo_matrix\n",
    "import numpy as np \n",
    "import torch\n",
    "import dgl\n",
    "from dgl.data import AsNodePredDataset\n",
    "from ogb.nodeproppred import DglNodePropPredDataset"
   ]
  },
  {
   "cell_type": "code",
   "execution_count": 4,
   "metadata": {},
   "outputs": [],
   "source": [
    "graph = np.fromfile(\"/home/bear/workspace/single-gnn/data/partition/PD/part0/raw_G.bin\",dtype=np.int32)\n",
    "nodes = np.fromfile(\"/home/bear/workspace/single-gnn/data/partition/PD/part0/raw_nodes.bin\",dtype=np.int32)\n",
    "trainIds = np.fromfile(\"/home/bear/workspace/single-gnn/data/partition/PD/part0/raw_trainIds.bin\",dtype=np.int64)"
   ]
  },
  {
   "cell_type": "code",
   "execution_count": null,
   "metadata": {},
   "outputs": [],
   "source": [
    "print(\"self.indptr:\",self.indptr.shape)\n",
    "print(\"self.indices:\",self.indices.shape)"
   ]
  }
 ],
 "metadata": {
  "kernelspec": {
   "display_name": "graphtest",
   "language": "python",
   "name": "python3"
  },
  "language_info": {
   "codemirror_mode": {
    "name": "ipython",
    "version": 3
   },
   "file_extension": ".py",
   "mimetype": "text/x-python",
   "name": "python",
   "nbconvert_exporter": "python",
   "pygments_lexer": "ipython3",
   "version": "3.8.17"
  }
 },
 "nbformat": 4,
 "nbformat_minor": 2
}

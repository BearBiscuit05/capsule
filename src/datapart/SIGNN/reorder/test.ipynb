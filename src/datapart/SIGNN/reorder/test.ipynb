{
 "cells": [
  {
   "cell_type": "code",
   "execution_count": 2,
   "metadata": {},
   "outputs": [],
   "source": [
    "from scipy.sparse import csr_matrix\n",
    "from scipy.sparse import coo_matrix\n",
    "import numpy as np \n",
    "import torch"
   ]
  },
  {
   "cell_type": "code",
   "execution_count": 7,
   "metadata": {},
   "outputs": [
    {
     "name": "stdout",
     "output_type": "stream",
     "text": [
      "tensor([[0, 5],\n",
      "        [2, 0],\n",
      "        [4, 1],\n",
      "        [6, 2]])\n"
     ]
    }
   ],
   "source": [
    "t1 = torch.tensor([1, 2, 3, 4, 5, 6, 7, 8, 9])\n",
    "t2 = torch.tensor([3, 5, 7])\n",
    "indices = (t1[:, None] == t2).nonzero()[:, 0]\n",
    "print(indices)"
   ]
  },
  {
   "cell_type": "code",
   "execution_count": 23,
   "metadata": {},
   "outputs": [
    {
     "name": "stdout",
     "output_type": "stream",
     "text": [
      "tensor([2, 4, 6, 0])\n"
     ]
    }
   ],
   "source": [
    "t1 = torch.tensor([1, 2, 3, 4, 5, 6, 7, 8, 9])\n",
    "t2 = torch.tensor([3, 5, 7, 10,12,1])\n",
    "indices = torch.full(t2.shape, -1, dtype=torch.long)\n",
    "mask = (t1[:, None] == t2)\n",
    "table = mask.nonzero().reshape(-1)\n",
    "col_indices = table[::2]\n",
    "row_indices = table[1::2]\n",
    "indices[row_indices] = col_indices\n",
    "non_negative_tensor = indices[indices >= 0]\n",
    "print(non_negative_tensor)"
   ]
  },
  {
   "cell_type": "code",
   "execution_count": 20,
   "metadata": {},
   "outputs": [
    {
     "data": {
      "text/plain": [
       "tensor([5, 0, 1, 2])"
      ]
     },
     "execution_count": 20,
     "metadata": {},
     "output_type": "execute_result"
    }
   ],
   "source": [
    "row_indices"
   ]
  },
  {
   "cell_type": "code",
   "execution_count": 11,
   "metadata": {},
   "outputs": [
    {
     "name": "stdout",
     "output_type": "stream",
     "text": [
      "tensor([ 2,  4,  6, -1])\n"
     ]
    }
   ],
   "source": [
    "import torch\n",
    "\n",
    "t1 = torch.tensor([1, 2, 3, 4, 5, 6, 7, 8, 9])\n",
    "t2 = torch.tensor([3, 5, 7, 10])\n",
    "\n",
    "# 创建一个新的tensor来存储索引位置，初始值设置为-1\n",
    "indices = torch.full(t2.shape, -1, dtype=torch.long)\n",
    "\n",
    "# 使用torch.where函数找出t2中的元素在t1中的索引位置\n",
    "for i, val in enumerate(t2):\n",
    "    matching_indices = torch.where(t1 == val)\n",
    "    if len(matching_indices[0]) > 0:\n",
    "        indices[i] = matching_indices[0][0]\n",
    "\n",
    "print(indices)\n"
   ]
  }
 ],
 "metadata": {
  "kernelspec": {
   "display_name": "graphtest",
   "language": "python",
   "name": "python3"
  },
  "language_info": {
   "codemirror_mode": {
    "name": "ipython",
    "version": 3
   },
   "file_extension": ".py",
   "mimetype": "text/x-python",
   "name": "python",
   "nbconvert_exporter": "python",
   "pygments_lexer": "ipython3",
   "version": "3.8.16"
  }
 },
 "nbformat": 4,
 "nbformat_minor": 2
}

{
 "cells": [
  {
   "cell_type": "code",
   "execution_count": 26,
   "metadata": {},
   "outputs": [],
   "source": [
    "import random\n",
    "import numpy as np\n"
   ]
  },
  {
   "cell_type": "code",
   "execution_count": 27,
   "metadata": {},
   "outputs": [],
   "source": [
    "# 创建4个空数组\n",
    "arrays = [[] for _ in range(4)]\n",
    "\n",
    "partNUM = 4\n",
    "nodeNUM = 200\n",
    "intraNUM = 75\n",
    "interNUM = 40\n",
    "numbers = list(range(nodeNUM))\n",
    "random.shuffle(numbers)\n",
    "\n",
    "# 将打乱后的数字分到4个数组中\n",
    "for i, number in enumerate(numbers):\n",
    "    array_index = i % partNUM\n",
    "    arrays[array_index].append(number)\n",
    "\n",
    "# 随机生成一些边（数组内部）\n",
    "intraEdges = [[[],[]],\n",
    "             [[],[]],\n",
    "             [[],[]],\n",
    "             [[],[]]]\n",
    "interEdgesMaps = {}\n",
    "for i in range(partNUM):\n",
    "    for j in range(partNUM):\n",
    "        if i != j:\n",
    "            interEdgesMaps[(i, j)] = []\n",
    "\n",
    "for i in range(partNUM):\n",
    "    for j in range(intraNUM):\n",
    "        src = random.choice(arrays[i])\n",
    "        dest = random.choice(arrays[i])\n",
    "        intraEdges[i][0].append(src)\n",
    "        intraEdges[i][1].append(dest)\n",
    "\n",
    "for i in range(partNUM):\n",
    "    for j in range(interNUM):\n",
    "        src_array = i\n",
    "        dest_array = random.randint(0, partNUM - 1)\n",
    "        while dest_array == src_array:\n",
    "            dest_array = random.randint(0, partNUM - 1)\n",
    "        src = random.choice(arrays[src_array])\n",
    "        dest = random.choice(arrays[dest_array])\n",
    "        interEdgesMaps[(src_array, dest_array)].append(src)\n",
    "        interEdgesMaps[(src_array, dest_array)].append(dest)\n",
    "        # interEdges[i][0].append(src)\n",
    "        # interEdges[i][1].append(dest)"
   ]
  },
  {
   "cell_type": "code",
   "execution_count": 28,
   "metadata": {},
   "outputs": [],
   "source": [
    "import os\n",
    "filePath = \"/raid/bear/test_part_dataset/\"\n",
    "for rank in range(partNUM):\n",
    "    target_directory = filePath + \"part\" + str(rank)\n",
    "    if not os.path.exists(target_directory):\n",
    "        try:\n",
    "            os.makedirs(target_directory)\n",
    "            print(f\"Created directory: {target_directory}\")\n",
    "        except OSError as e:\n",
    "            print(f\"Error creating directory: {e}\")\n",
    "            exit(1)  # 如果创建失败，可以选择退出程序\n",
    "\n",
    "\n",
    "\n",
    "# for i in range(partNUM):\n",
    "#     interEdges[i][0] = np.array(interEdges[i][0])\n",
    "#     interEdges[i][1] = np.array(interEdges[i][1])\n"
   ]
  },
  {
   "cell_type": "code",
   "execution_count": 29,
   "metadata": {},
   "outputs": [],
   "source": [
    "for i in range(partNUM):\n",
    "    target_directory = filePath + \"part\" + str(i)\n",
    "    intraEdges[i][0] = np.array(intraEdges[i][0])\n",
    "    intraEdges[i][1] = np.array(intraEdges[i][1])\n",
    "    intraEdges[i][0].tofile(target_directory+\"/srcList.bin\")\n",
    "    intraEdges[i][0].tofile(target_directory+\"/dstList.bin\")"
   ]
  },
  {
   "cell_type": "code",
   "execution_count": 30,
   "metadata": {},
   "outputs": [],
   "source": [
    "for i in range(partNUM):\n",
    "    for j in range(partNUM):\n",
    "        if i != j:\n",
    "            target_directory = filePath + \"part\" + str(i)\n",
    "            interEdgesMaps[(i, j)] = np.array(interEdgesMaps[(i, j)])\n",
    "            interEdgesMaps[(i, j)].tofile(target_directory+\"/halo_\"+str(j)+\".bin\")"
   ]
  }
 ],
 "metadata": {
  "kernelspec": {
   "display_name": "graphtest",
   "language": "python",
   "name": "python3"
  },
  "language_info": {
   "codemirror_mode": {
    "name": "ipython",
    "version": 3
   },
   "file_extension": ".py",
   "mimetype": "text/x-python",
   "name": "python",
   "nbconvert_exporter": "python",
   "pygments_lexer": "ipython3",
   "version": "3.8.16"
  },
  "orig_nbformat": 4
 },
 "nbformat": 4,
 "nbformat_minor": 2
}

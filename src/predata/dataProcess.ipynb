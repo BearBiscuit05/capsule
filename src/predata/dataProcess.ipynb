{
 "cells": [
  {
   "cell_type": "code",
   "execution_count": 1,
   "metadata": {},
   "outputs": [],
   "source": [
    "import torch\n",
    "import torch.nn as nn\n",
    "import torch.nn.functional as F\n",
    "import torchmetrics.functional as MF\n",
    "import dgl\n",
    "import dgl.nn as dglnn\n",
    "from dgl.data import AsNodePredDataset\n",
    "from dgl.dataloading import DataLoader, NeighborSampler, MultiLayerFullNeighborSampler\n",
    "from ogb.nodeproppred import DglNodePropPredDataset\n",
    "import tqdm\n",
    "import argparse\n",
    "import ast\n",
    "import sklearn.metrics\n",
    "import numpy as np\n",
    "import time\n",
    "\n",
    "\n",
    "def load_reddit(self_loop=True):\n",
    "    from dgl.data import RedditDataset\n",
    "    data = RedditDataset(self_loop=self_loop,raw_dir='./data/dataset/')\n",
    "    g = data[0]\n",
    "    g.ndata['feat'] = g.ndata.pop('feat')\n",
    "    g.ndata['label'] = g.ndata.pop('label')\n",
    "    train_idx = []\n",
    "    val_idx = []\n",
    "    test_idx = []\n",
    "    for index in range(len(g.ndata['train_mask'])):\n",
    "        if g.ndata['train_mask'][index] == 1:\n",
    "            train_idx.append(index)\n",
    "    for index in range(len(g.ndata['val_mask'])):\n",
    "        if g.ndata['val_mask'][index] == 1:\n",
    "            val_idx.append(index)\n",
    "    for index in range(len(g.ndata['test_mask'])):\n",
    "        if g.ndata['test_mask'][index] == 1:\n",
    "            test_idx.append(index)\n",
    "    return g, data,train_idx,val_idx,test_idx"
   ]
  },
  {
   "cell_type": "code",
   "execution_count": 2,
   "metadata": {},
   "outputs": [],
   "source": [
    "g, dataset,train_idx,val_idx,test_idx= load_reddit()"
   ]
  },
  {
   "cell_type": "code",
   "execution_count": 6,
   "metadata": {},
   "outputs": [],
   "source": [
    "src = g.edges()[0].numpy()\n",
    "dst = g.edges()[1].numpy()\n",
    "src.tofile(\"/raid/bear/reddit_bin/srcList.bin\")\n",
    "dst.tofile(\"/raid/bear/reddit_bin/dstList.bin\")"
   ]
  },
  {
   "cell_type": "code",
   "execution_count": 10,
   "metadata": {},
   "outputs": [
    {
     "data": {
      "text/plain": [
       "torch.float32"
      ]
     },
     "execution_count": 10,
     "metadata": {},
     "output_type": "execute_result"
    }
   ],
   "source": [
    "feat = g.ndata['feat'].numpy().tofile(\"/raid/bear/reddit_bin/feat.bin\")\n",
    "label = g.ndata['label'].numpy().tofile(\"/raid/bear/reddit_bin/label.bin\")\n",
    "\n",
    "# feat = g.ndata['feat']\n",
    "# feat.dtype\n",
    "# label = g.ndata['label']"
   ]
  },
  {
   "cell_type": "code",
   "execution_count": 9,
   "metadata": {},
   "outputs": [],
   "source": [
    "\n",
    "torch.Tensor(train_idx).to(torch.int64).numpy().tofile(\"/raid/bear/reddit_bin/trainIDs.bin\")\n",
    "torch.Tensor(val_idx).to(torch.int64).numpy().tofile(\"/raid/bear/reddit_bin/valIDs.bin\")\n",
    "torch.Tensor(test_idx).to(torch.int64).numpy().tofile(\"/raid/bear/reddit_bin/testIDs.bin\")\n",
    "\n",
    "# torch.Tensor(train_idx)\n",
    "# torch.Tensor(val_idx)\n",
    "# torch.Tensor(test_idx)\n"
   ]
  }
 ],
 "metadata": {
  "kernelspec": {
   "display_name": "graphtest",
   "language": "python",
   "name": "python3"
  },
  "language_info": {
   "codemirror_mode": {
    "name": "ipython",
    "version": 3
   },
   "file_extension": ".py",
   "mimetype": "text/x-python",
   "name": "python",
   "nbconvert_exporter": "python",
   "pygments_lexer": "ipython3",
   "version": "3.8.16"
  },
  "orig_nbformat": 4
 },
 "nbformat": 4,
 "nbformat_minor": 2
}

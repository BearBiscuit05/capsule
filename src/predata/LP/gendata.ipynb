{
 "cells": [
  {
   "cell_type": "code",
   "execution_count": null,
   "metadata": {},
   "outputs": [],
   "source": [
    "import torch\n",
    "import torch.nn as nn\n",
    "import torch.nn.functional as F\n",
    "import torchmetrics.functional as MF\n",
    "import dgl\n",
    "import dgl.nn as dglnn\n",
    "from dgl.data import AsNodePredDataset\n",
    "from dgl.dataloading import DataLoader, NeighborSampler, MultiLayerFullNeighborSampler\n",
    "from ogb.nodeproppred import DglNodePropPredDataset\n",
    "import tqdm\n",
    "import argparse\n",
    "import ast\n",
    "import sklearn.metrics\n",
    "import numpy as np\n",
    "import time\n",
    "import sys\n",
    "from dgl.dataloading import (\n",
    "    as_edge_prediction_sampler,\n",
    "    DataLoader,\n",
    "    MultiLayerFullNeighborSampler,\n",
    "    negative_sampler,\n",
    "    NeighborSampler,\n",
    ")"
   ]
  },
  {
   "cell_type": "code",
   "execution_count": null,
   "metadata": {},
   "outputs": [],
   "source": [
    "dataset = AsNodePredDataset(DglNodePropPredDataset('ogbn-products',root=\"/home/bear/workspace/singleGNN/data/dataset\"))\n",
    "g = dataset[0]"
   ]
  },
  {
   "cell_type": "markdown",
   "metadata": {},
   "source": [
    "Products数据集\n",
    "nodeNUM:2449029\n",
    "edgeNUM:123718152\n",
    "feat:100\n",
    "class:47\n",
    "trainNUM:196615\n",
    "valNUM:39323\n",
    "testNUM:2213091"
   ]
  },
  {
   "cell_type": "code",
   "execution_count": null,
   "metadata": {},
   "outputs": [],
   "source": [
    "import random\n",
    "edgeNUM = 1000000\n",
    "sampled_edge_ids = random.sample(range(g.num_edges()), 1000000)\n",
    "trainId=sampled_edge_ids[:int(edgeNUM * 0.3)]\n",
    "TestId=sampled_edge_ids[int(edgeNUM * 0.3):int(edgeNUM * 0.9)]\n",
    "ValId=sampled_edge_ids[int(edgeNUM * 0.9):]\n",
    "\n",
    "\n",
    "neg_train_sampler = dgl.dataloading.negative_sampler.Uniform(1)\n",
    "train_src, train_neg_dst = neg_train_sampler(g, torch.Tensor(trainId).to(torch.int64))\n",
    "raw_train_dst=torch.Tensor(g.edges()[1][trainId])\n",
    "\n",
    "neg_val_sampler = dgl.dataloading.negative_sampler.Uniform(1000)\n",
    "val_src,val_neg_dst = neg_val_sampler(g, torch.Tensor(ValId).to(torch.int64))\n",
    "raw_val_dst=torch.Tensor(g.edges()[1][ValId])\n",
    "\n",
    "neg_test_sampler = dgl.dataloading.negative_sampler.Uniform(1000)\n",
    "test_src, test_neg_dst = neg_test_sampler(g, torch.Tensor(TestId).to(torch.int64))\n",
    "raw_test_dst=torch.Tensor(g.edges()[1][TestId])"
   ]
  },
  {
   "cell_type": "code",
   "execution_count": null,
   "metadata": {},
   "outputs": [],
   "source": []
  }
 ],
 "metadata": {
  "kernelspec": {
   "display_name": "graphtest",
   "language": "python",
   "name": "python3"
  },
  "language_info": {
   "codemirror_mode": {
    "name": "ipython",
    "version": 3
   },
   "file_extension": ".py",
   "mimetype": "text/x-python",
   "name": "python",
   "nbconvert_exporter": "python",
   "pygments_lexer": "ipython3",
   "version": "3.8.16"
  },
  "orig_nbformat": 4
 },
 "nbformat": 4,
 "nbformat_minor": 2
}
